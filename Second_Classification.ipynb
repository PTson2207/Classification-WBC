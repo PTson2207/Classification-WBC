{
  "nbformat": 4,
  "nbformat_minor": 0,
  "metadata": {
    "colab": {
      "name": "Second-Classification.ipynb",
      "provenance": [],
      "mount_file_id": "1FMtP9SuilFDnAHjzI3R6PiXxTr65Pdzh",
      "authorship_tag": "ABX9TyPsKbW9kWrXxmw83hzWkrlx",
      "include_colab_link": true
    },
    "kernelspec": {
      "name": "python3",
      "display_name": "Python 3"
    },
    "accelerator": "GPU"
  },
  "cells": [
    {
      "cell_type": "markdown",
      "metadata": {
        "id": "view-in-github",
        "colab_type": "text"
      },
      "source": [
        "<a href=\"https://colab.research.google.com/github/PTson2207/Classification-WBC/blob/main/Second_Classification.ipynb\" target=\"_parent\"><img src=\"https://colab.research.google.com/assets/colab-badge.svg\" alt=\"Open In Colab\"/></a>"
      ]
    },
    {
      "cell_type": "code",
      "metadata": {
        "id": "Nf0lVXfiebyp"
      },
      "source": [
        "import numpy as np\r\n",
        "import csv\r\n",
        "import cv2\r\n",
        "import os\r\n",
        "from keras.models import Sequential\r\n",
        "from keras.layers import Dense, Dropout, Flatten, Activation\r\n",
        "from keras.layers import Conv2D, MaxPooling2D, Lambda\r\n",
        "from keras.wrappers.scikit_learn import KerasClassifier\r\n",
        "from keras.utils import  np_utils\r\n",
        "from keras.preprocessing.image import  ImageDataGenerator\r\n",
        "from sklearn.model_selection import cross_val_score, KFold, train_test_split\r\n",
        "from sklearn.pipeline import Pipeline\r\n",
        "from sklearn.preprocessing import LabelEncoder\r\n",
        "from sklearn.metrics import roc_curve, auc\r\n",
        "import matplotlib.pyplot as plt\r\n",
        "from tensorflow.keras.optimizers import  Adam"
      ],
      "execution_count": 1,
      "outputs": []
    },
    {
      "cell_type": "markdown",
      "metadata": {
        "id": "vcqCZnpUergO"
      },
      "source": [
        "    Image generator"
      ]
    },
    {
      "cell_type": "code",
      "metadata": {
        "id": "R2xrpYk5RsD9"
      },
      "source": [
        "def image_processing(train_path, valid_path, test_path, batch_size):\r\n",
        "    define_train = ImageDataGenerator(rescale=1./255)\r\n",
        "    train_generator = define_train.flow_from_directory(train_path,\r\n",
        "                                                 target_size=image_size,\r\n",
        "                                                 batch_size=batch_size,\r\n",
        "                                                 class_mode='categorical',\r\n",
        "                                                 subset='training')\r\n",
        "    \r\n",
        "    define_valid = ImageDataGenerator(rescale=1./255)\r\n",
        "    validation_generator = define_valid.flow_from_directory(valid_path,\r\n",
        "                                                            target_size=image_size,\r\n",
        "                                                            batch_size=batch_size,\r\n",
        "                                                            class_mode='categorical')\r\n",
        "    \r\n",
        "    define_test = ImageDataGenerator(rescale=1./255)\r\n",
        "    test_generator = define_test.flow_from_directory(test_path,\r\n",
        "                                                     target_size=image_size,\r\n",
        "                                                     batch_size=batch_size,\r\n",
        "                                                     shuffle=False,\r\n",
        "                                                     class_mode='categorical')\r\n",
        "    \r\n",
        "    return train_generator, validation_generator, test_generator"
      ],
      "execution_count": 2,
      "outputs": []
    },
    {
      "cell_type": "code",
      "metadata": {
        "id": "mdNjuCxPV_mQ"
      },
      "source": [
        "batch_size=32\r\n",
        "image_size=(160, 120)\r\n",
        "input_shape=(120, 160, 3)\r\n",
        "epochs=25\r\n",
        "train_path = \"/content/drive/MyDrive/WBC_classification/Data/TRAIN/\"\r\n",
        "test_path = \"/content/drive/MyDrive/WBC_classification/Data/TEST/\"\r\n",
        "valid_path = \"/content/drive/MyDrive/WBC_classification/Data/VALID/\""
      ],
      "execution_count": 3,
      "outputs": []
    },
    {
      "cell_type": "code",
      "metadata": {
        "colab": {
          "base_uri": "https://localhost:8080/"
        },
        "id": "wnkHmsohXSWe",
        "outputId": "3ac4c5f7-3e72-4ef8-93b6-9b26eb756d49"
      },
      "source": [
        "image_generator = image_processing(train_path, valid_path, test_path, batch_size)"
      ],
      "execution_count": 4,
      "outputs": [
        {
          "output_type": "stream",
          "text": [
            "Found 5000 images belonging to 5 classes.\n",
            "Found 2836 images belonging to 5 classes.\n",
            "Found 1733 images belonging to 5 classes.\n"
          ],
          "name": "stdout"
        }
      ]
    },
    {
      "cell_type": "markdown",
      "metadata": {
        "id": "jCAgmhDWU4nG"
      },
      "source": [
        "    Load model and visualize"
      ]
    },
    {
      "cell_type": "code",
      "metadata": {
        "id": "1douB7y3U4LW"
      },
      "source": [
        "def fit_transform(model, model_name, image_generator, batch_size, epochs, num_train_img, num_val_img):\r\n",
        "    print(model.summary())\r\n",
        "    history = model.fit(image_generator[0],\r\n",
        "                                  #steps_per_epoch=num_train_img // batch_size,\r\n",
        "                                  epochs=epochs,\r\n",
        "                                  validation_data=image_generator[1])\r\n",
        "                                  #validation_steps=num_val_img // batch_size)\r\n",
        "    \r\n",
        "    # visualize\r\n",
        "\r\n",
        "    # Loss\r\n",
        "    plt.figure(figsize=(8,6))\r\n",
        "    plt.plot(history.history['loss'], 'red', linewidth=3.0)\r\n",
        "    plt.plot(history.history['val_loss'], 'yellow', linewidth=3.0)\r\n",
        "    plt.legend(['Training Loss', 'Validation Loss'], fontsize=18)\r\n",
        "    plt.xlabel('Epochs', fontsize=15)\r\n",
        "    plt.ylabel('Loss', fontsize=15)\r\n",
        "    plt.title('Loss model {}'.format(model_name), fontsize=15)\r\n",
        "\r\n",
        "    #Acc\r\n",
        "    plt.figure(figsize=(8,6))\r\n",
        "    plt.plot(history.history['accuracy'], 'red', linewidth=3.0)\r\n",
        "    plt.plot(history.history['val_accuracy'], 'yellow', linewidth=3.0)\r\n",
        "    plt.legend(['Training Accuracy', 'Validation Accuracy'], fontsize=18)\r\n",
        "    plt.xlabel('Epochs', fontsize=15)\r\n",
        "    plt.ylabel('Accuracy', fontsize=15)\r\n",
        "    plt.title('Accuracy model {}'.format(model_name), fontsize=15)\r\n",
        "\r\n",
        "    print('Validation Accuracy:',history.history['val_accuracy'][-1])"
      ],
      "execution_count": 5,
      "outputs": []
    },
    {
      "cell_type": "markdown",
      "metadata": {
        "id": "WdXu8DL_ZU88"
      },
      "source": [
        "    build model"
      ]
    },
    {
      "cell_type": "code",
      "metadata": {
        "id": "ce8Uj3nRZUj3"
      },
      "source": [
        "    model_name = \"WBC Classification 1\"\r\n",
        "    model = Sequential()\r\n",
        "    model.add(Lambda(lambda x: x/127.5 - 1., input_shape=(120, 160, 3), output_shape=(120, 160, 3)))\r\n",
        "    model.add(Conv2D(32, (3, 3), input_shape=(120, 160, 3)))\r\n",
        "    model.add(Activation('relu'))\r\n",
        "    model.add(MaxPooling2D(pool_size=(2, 2)))\r\n",
        "\r\n",
        "    model.add(Conv2D(32, (3, 3)))\r\n",
        "    model.add(Activation('relu'))\r\n",
        "    model.add(MaxPooling2D(pool_size=(2, 2)))\r\n",
        "\r\n",
        "    model.add(Conv2D(64, (3, 3)))\r\n",
        "    model.add(Activation('relu'))\r\n",
        "    model.add(MaxPooling2D(pool_size=(2, 2)))\r\n",
        "    \r\n",
        "    model.add(Conv2D(128, (3, 3)))\r\n",
        "    model.add(Activation('relu'))\r\n",
        "    model.add(MaxPooling2D(pool_size=(2, 2)))\r\n",
        "\r\n",
        "    model.add(Flatten())\r\n",
        "    model.add(Dense(64))\r\n",
        "    model.add(Activation('relu'))\r\n",
        "    model.add(Dropout(0.5))\r\n",
        "    model.add(Dense(5))\r\n",
        "    model.add(Activation('softmax'))\r\n",
        "\r\n",
        "    model.compile(loss='categorical_crossentropy',\r\n",
        "                optimizer=Adam(learning_rate=0.0001),\r\n",
        "                metrics=['accuracy'])"
      ],
      "execution_count": 6,
      "outputs": []
    },
    {
      "cell_type": "markdown",
      "metadata": {
        "id": "pj4TkIUnsGYg"
      },
      "source": [
        "    Encoder"
      ]
    },
    {
      "cell_type": "markdown",
      "metadata": {
        "id": "e5IwyIHpZ3zC"
      },
      "source": [
        "    Training Data"
      ]
    },
    {
      "cell_type": "code",
      "metadata": {
        "id": "QX3Xg9OLZ3f-"
      },
      "source": [
        "# epochs= 50\r\n",
        "# fit_transform(model, model_name, image_generator, batch_size, epochs, 5000, 2836)"
      ],
      "execution_count": null,
      "outputs": []
    },
    {
      "cell_type": "markdown",
      "metadata": {
        "id": "p0VXPNoB_Eg1"
      },
      "source": [
        "    Other Model"
      ]
    },
    {
      "cell_type": "code",
      "metadata": {
        "id": "V_K5c0z7_EEh"
      },
      "source": [
        "model_name = 'WBC Classification 2'\r\n",
        "model2 = Sequential()\r\n",
        "model2.add(Conv2D(32, kernel_size=(3, 3),\r\n",
        "                     activation='relu',\r\n",
        "                     input_shape=(120, 160, 3),strides=1))\r\n",
        "model2.add(MaxPooling2D(pool_size=(2, 2)))\r\n",
        "\r\n",
        "model2.add(Conv2D(32, (3, 3), activation='relu'))\r\n",
        "model2.add(MaxPooling2D(pool_size=(2, 2)))\r\n",
        "\r\n",
        "model2.add(Conv2D(64, (3, 3), activation='relu'))\r\n",
        "model2.add(MaxPooling2D(pool_size=(2, 2)))\r\n",
        "\r\n",
        "model2.add(Flatten())\r\n",
        "model2.add(Dense(128, activation='relu'))\r\n",
        "model2.add(Dense(5, activation='softmax'))\r\n",
        "model2.compile(loss='categorical_crossentropy',\r\n",
        "                  optimizer='adam',\r\n",
        "                  metrics=['accuracy'])"
      ],
      "execution_count": 8,
      "outputs": []
    },
    {
      "cell_type": "code",
      "metadata": {
        "colab": {
          "base_uri": "https://localhost:8080/",
          "height": 1000
        },
        "id": "lV540ipT_fZY",
        "outputId": "78921068-53c9-4a27-8808-286e07116554"
      },
      "source": [
        "fit_transform(model2, model_name, image_generator, batch_size, 30, 5000, 2836)"
      ],
      "execution_count": 9,
      "outputs": [
        {
          "output_type": "stream",
          "text": [
            "Model: \"sequential_1\"\n",
            "_________________________________________________________________\n",
            "Layer (type)                 Output Shape              Param #   \n",
            "=================================================================\n",
            "conv2d_4 (Conv2D)            (None, 118, 158, 32)      896       \n",
            "_________________________________________________________________\n",
            "max_pooling2d_4 (MaxPooling2 (None, 59, 79, 32)        0         \n",
            "_________________________________________________________________\n",
            "conv2d_5 (Conv2D)            (None, 57, 77, 32)        9248      \n",
            "_________________________________________________________________\n",
            "max_pooling2d_5 (MaxPooling2 (None, 28, 38, 32)        0         \n",
            "_________________________________________________________________\n",
            "conv2d_6 (Conv2D)            (None, 26, 36, 64)        18496     \n",
            "_________________________________________________________________\n",
            "max_pooling2d_6 (MaxPooling2 (None, 13, 18, 64)        0         \n",
            "_________________________________________________________________\n",
            "flatten_1 (Flatten)          (None, 14976)             0         \n",
            "_________________________________________________________________\n",
            "dense_2 (Dense)              (None, 128)               1917056   \n",
            "_________________________________________________________________\n",
            "dense_3 (Dense)              (None, 5)                 645       \n",
            "=================================================================\n",
            "Total params: 1,946,341\n",
            "Trainable params: 1,946,341\n",
            "Non-trainable params: 0\n",
            "_________________________________________________________________\n",
            "None\n",
            "Epoch 1/30\n",
            "157/157 [==============================] - 1652s 10s/step - loss: 1.2151 - accuracy: 0.5071 - val_loss: 0.3398 - val_accuracy: 0.8967\n",
            "Epoch 2/30\n",
            "157/157 [==============================] - 25s 162ms/step - loss: 0.3797 - accuracy: 0.8689 - val_loss: 0.1911 - val_accuracy: 0.9429\n",
            "Epoch 3/30\n",
            "157/157 [==============================] - 25s 160ms/step - loss: 0.2168 - accuracy: 0.9281 - val_loss: 0.2007 - val_accuracy: 0.9390\n",
            "Epoch 4/30\n",
            "157/157 [==============================] - 25s 161ms/step - loss: 0.1762 - accuracy: 0.9396 - val_loss: 0.1432 - val_accuracy: 0.9510\n",
            "Epoch 5/30\n",
            "157/157 [==============================] - 25s 160ms/step - loss: 0.1224 - accuracy: 0.9635 - val_loss: 0.1112 - val_accuracy: 0.9644\n",
            "Epoch 6/30\n",
            "157/157 [==============================] - 25s 161ms/step - loss: 0.1240 - accuracy: 0.9589 - val_loss: 0.0757 - val_accuracy: 0.9753\n",
            "Epoch 7/30\n",
            "157/157 [==============================] - 25s 161ms/step - loss: 0.0612 - accuracy: 0.9811 - val_loss: 0.0968 - val_accuracy: 0.9679\n",
            "Epoch 8/30\n",
            "157/157 [==============================] - 25s 159ms/step - loss: 0.1081 - accuracy: 0.9663 - val_loss: 0.1015 - val_accuracy: 0.9637\n",
            "Epoch 9/30\n",
            "157/157 [==============================] - 25s 159ms/step - loss: 0.0776 - accuracy: 0.9755 - val_loss: 0.0646 - val_accuracy: 0.9795\n",
            "Epoch 10/30\n",
            "157/157 [==============================] - 25s 159ms/step - loss: 0.0549 - accuracy: 0.9822 - val_loss: 0.0657 - val_accuracy: 0.9778\n",
            "Epoch 11/30\n",
            "157/157 [==============================] - 25s 158ms/step - loss: 0.0414 - accuracy: 0.9861 - val_loss: 0.0581 - val_accuracy: 0.9810\n",
            "Epoch 12/30\n",
            "157/157 [==============================] - 25s 157ms/step - loss: 0.0368 - accuracy: 0.9885 - val_loss: 0.0853 - val_accuracy: 0.9767\n",
            "Epoch 13/30\n",
            "157/157 [==============================] - 25s 157ms/step - loss: 0.0315 - accuracy: 0.9909 - val_loss: 0.0538 - val_accuracy: 0.9855\n",
            "Epoch 14/30\n",
            "157/157 [==============================] - 25s 158ms/step - loss: 0.0248 - accuracy: 0.9935 - val_loss: 0.0875 - val_accuracy: 0.9743\n",
            "Epoch 15/30\n",
            "157/157 [==============================] - 25s 157ms/step - loss: 0.0292 - accuracy: 0.9904 - val_loss: 0.0769 - val_accuracy: 0.9781\n",
            "Epoch 16/30\n",
            "157/157 [==============================] - 25s 157ms/step - loss: 0.0115 - accuracy: 0.9976 - val_loss: 0.0578 - val_accuracy: 0.9838\n",
            "Epoch 17/30\n",
            "157/157 [==============================] - 25s 157ms/step - loss: 0.0098 - accuracy: 0.9973 - val_loss: 0.0906 - val_accuracy: 0.9753\n",
            "Epoch 18/30\n",
            "157/157 [==============================] - 25s 157ms/step - loss: 0.0293 - accuracy: 0.9922 - val_loss: 0.1124 - val_accuracy: 0.9693\n",
            "Epoch 19/30\n",
            "157/157 [==============================] - 24s 156ms/step - loss: 0.0476 - accuracy: 0.9857 - val_loss: 0.0787 - val_accuracy: 0.9785\n",
            "Epoch 20/30\n",
            "157/157 [==============================] - 25s 157ms/step - loss: 0.0240 - accuracy: 0.9917 - val_loss: 0.0562 - val_accuracy: 0.9859\n",
            "Epoch 21/30\n",
            "157/157 [==============================] - 25s 157ms/step - loss: 0.0407 - accuracy: 0.9894 - val_loss: 0.1075 - val_accuracy: 0.9647\n",
            "Epoch 22/30\n",
            "157/157 [==============================] - 25s 157ms/step - loss: 0.0584 - accuracy: 0.9808 - val_loss: 0.0561 - val_accuracy: 0.9831\n",
            "Epoch 23/30\n",
            "157/157 [==============================] - 25s 157ms/step - loss: 0.0059 - accuracy: 0.9997 - val_loss: 0.0513 - val_accuracy: 0.9855\n",
            "Epoch 24/30\n",
            "157/157 [==============================] - 25s 157ms/step - loss: 0.0046 - accuracy: 0.9989 - val_loss: 0.0548 - val_accuracy: 0.9841\n",
            "Epoch 25/30\n",
            "157/157 [==============================] - 25s 157ms/step - loss: 9.4242e-04 - accuracy: 0.9998 - val_loss: 0.0629 - val_accuracy: 0.9817\n",
            "Epoch 26/30\n",
            "157/157 [==============================] - 25s 157ms/step - loss: 0.0085 - accuracy: 0.9986 - val_loss: 0.0529 - val_accuracy: 0.9855\n",
            "Epoch 27/30\n",
            "157/157 [==============================] - 24s 156ms/step - loss: 0.0022 - accuracy: 0.9996 - val_loss: 0.0520 - val_accuracy: 0.9859\n",
            "Epoch 28/30\n",
            "157/157 [==============================] - 24s 156ms/step - loss: 8.9595e-04 - accuracy: 0.9998 - val_loss: 0.0491 - val_accuracy: 0.9873\n",
            "Epoch 29/30\n",
            "157/157 [==============================] - 24s 155ms/step - loss: 0.0041 - accuracy: 0.9996 - val_loss: 0.0453 - val_accuracy: 0.9873\n",
            "Epoch 30/30\n",
            "157/157 [==============================] - 24s 156ms/step - loss: 0.0024 - accuracy: 0.9993 - val_loss: 0.0452 - val_accuracy: 0.9884\n",
            "Validation Accuracy: 0.9883639216423035\n"
          ],
          "name": "stdout"
        },
        {
          "output_type": "display_data",
          "data": {
            "image/png": "[encoded data removed]",
            "text/plain": [
              "<Figure size 576x432 with 1 Axes>"
            ]
          },
          "metadata": {
            "tags": [],
            "needs_background": "light"
          }
        },
        {
          "output_type": "display_data",
          "data": {
            "image/png": "[encoded data removed]",
            "text/plain": [
              "<Figure size 576x432 with 1 Axes>"
            ]
          },
          "metadata": {
            "tags": [],
            "needs_background": "light"
          }
        }
      ]
    },
    {
      "cell_type": "markdown",
      "metadata": {
        "id": "LyDK7Pm4PiQ8"
      },
      "source": [
        "    Trainable params càng nhiều thì accuracy càng cao"
      ]
    },
    {
      "cell_type": "code",
      "metadata": {
        "id": "wREZHeY8dFcq"
      },
      "source": [
        "predictions = model2.predict(image_generator[2])"
      ],
      "execution_count": 13,
      "outputs": []
    },
    {
      "cell_type": "markdown",
      "metadata": {
        "id": "0x2dCHj9WwQl"
      },
      "source": [
        "    Confusion Matrix"
      ]
    },
    {
      "cell_type": "code",
      "metadata": {
        "id": "p_Yh4LIEWy8h"
      },
      "source": [
        "from sklearn.metrics import confusion_matrix\r\n",
        "import itertools"
      ],
      "execution_count": 10,
      "outputs": []
    },
    {
      "cell_type": "code",
      "metadata": {
        "id": "txQccVtWP3ol"
      },
      "source": [
        "def plot_confusion_matrix(cm, classes, normalize=False, title='Confusion Matrix', cmap=plt.cm.Blues):\r\n",
        "    plt.imshow(cm, interpolation='nearest', cmap=cmap)\r\n",
        "    plt.title(title)\r\n",
        "    plt.colorbar()\r\n",
        "    tick_marks = np.arange(len(classes))\r\n",
        "    plt.xticks(tick_marks, classes, rotation=45)\r\n",
        "    plt.yticks(tick_marks, classes)\r\n",
        "\r\n",
        "    if normalize:\r\n",
        "        cm = cm.astype('float') / cm.sum(axis=1)[:, np.newaxis]\r\n",
        "        print('Normalize Confusion Matrix')\r\n",
        "    else:\r\n",
        "        print('Confusion Matrix, without normalize')\r\n",
        "    \r\n",
        "    print(cm)\r\n",
        "    thresh = cm.max() / 2\r\n",
        "    for i, j in itertools.product(range(cm.shape[0]), range(cm.shape[1])):\r\n",
        "        plt.text(j, i, cm[i, j], horizontalalignment='center',\r\n",
        "                 color='white' if cm[i, j]>thresh else 'black')\r\n",
        "    \r\n",
        "    plt.tight_layout();\r\n",
        "    plt.ylabel(\"True Labels\");\r\n",
        "    plt.xlabel(\"Predicted Labels\");"
      ],
      "execution_count": 11,
      "outputs": []
    },
    {
      "cell_type": "code",
      "metadata": {
        "id": "IpxaEOa-dEBY"
      },
      "source": [
        "true_classes = image_generator[2].classes"
      ],
      "execution_count": 14,
      "outputs": []
    },
    {
      "cell_type": "code",
      "metadata": {
        "id": "Y9rn_JOmYC0M"
      },
      "source": [
        "cm = confusion_matrix(true_classes, np.argmax(predictions, axis=-1))"
      ],
      "execution_count": 15,
      "outputs": []
    },
    {
      "cell_type": "code",
      "metadata": {
        "colab": {
          "base_uri": "https://localhost:8080/"
        },
        "id": "dQmaQtozfXNZ",
        "outputId": "d8e3479d-41a0-4365-edb1-b8bc5f247975"
      },
      "source": [
        "image_generator[2].class_indices"
      ],
      "execution_count": 16,
      "outputs": [
        {
          "output_type": "execute_result",
          "data": {
            "text/plain": [
              "{'basophil': 0,\n",
              " 'eosinophil': 1,\n",
              " 'lymphocyte': 2,\n",
              " 'monocyte': 3,\n",
              " 'neutrophil': 4}"
            ]
          },
          "metadata": {
            "tags": []
          },
          "execution_count": 16
        }
      ]
    },
    {
      "cell_type": "code",
      "metadata": {
        "colab": {
          "base_uri": "https://localhost:8080/",
          "height": 413
        },
        "id": "xdbpB_VQf080",
        "outputId": "460a759e-ef4f-4657-89e4-a3d33f80aad6"
      },
      "source": [
        "cm_plot_labels = ['basophil', 'eosinophil', 'lymphocyte', 'monocyte', 'neutrophil']\r\n",
        "plot_confusion_matrix(cm, classes=cm_plot_labels, title='Confusion Matrix')"
      ],
      "execution_count": 17,
      "outputs": [
        {
          "output_type": "stream",
          "text": [
            "Confusion Matrix, without normalize\n",
            "[[207   3   1   3   4]\n",
            " [  0 274   0   0   2]\n",
            " [  1   0 208   5   0]\n",
            " [  4   0   4 411   1]\n",
            " [  4   6   2   8 585]]\n"
          ],
          "name": "stdout"
        },
        {
          "output_type": "display_data",
          "data": {
            "image/png": "[encoded data removed]",
            "text/plain": [
              "<Figure size 432x288 with 2 Axes>"
            ]
          },
          "metadata": {
            "tags": [],
            "needs_background": "light"
          }
        }
      ]
    }
  ]
}