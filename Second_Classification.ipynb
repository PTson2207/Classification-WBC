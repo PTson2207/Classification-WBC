{
  "nbformat": 4,
  "nbformat_minor": 0,
  "metadata": {
    "colab": {
      "name": "Second-Classification.ipynb",
      "provenance": [],
      "mount_file_id": "1FMtP9SuilFDnAHjzI3R6PiXxTr65Pdzh",
      "authorship_tag": "ABX9TyNkqwSOLACLyIYkk1R0LUDy",
      "include_colab_link": true
    },
    "kernelspec": {
      "name": "python3",
      "display_name": "Python 3"
    },
    "accelerator": "GPU"
  },
  "cells": [
    {
      "cell_type": "markdown",
      "metadata": {
        "id": "view-in-github",
        "colab_type": "text"
      },
      "source": [
        "<a href=\"https://colab.research.google.com/github/PTson2207/Classification-WBC/blob/main/Second_Classification.ipynb\" target=\"_parent\"><img src=\"https://colab.research.google.com/assets/colab-badge.svg\" alt=\"Open In Colab\"/></a>"
      ]
    },
    {
      "cell_type": "code",
      "metadata": {
        "id": "Nf0lVXfiebyp"
      },
      "source": [
        "import numpy as np\r\n",
        "import csv\r\n",
        "import cv2\r\n",
        "import os\r\n",
        "from keras.models import Sequential\r\n",
        "from keras.layers import Dense, Dropout, Flatten, Activation\r\n",
        "from keras.layers import Conv2D, MaxPooling2D, Lambda\r\n",
        "from keras.wrappers.scikit_learn import KerasClassifier\r\n",
        "from keras.utils import  np_utils\r\n",
        "from keras.preprocessing.image import  ImageDataGenerator\r\n",
        "from sklearn.model_selection import cross_val_score, KFold, train_test_split\r\n",
        "from sklearn.pipeline import Pipeline\r\n",
        "from sklearn.preprocessing import LabelEncoder\r\n",
        "from sklearn.metrics import roc_curve, auc\r\n",
        "import matplotlib.pyplot as plt\r\n",
        "from tensorflow.keras.optimizers import  Adam"
      ],
      "execution_count": 1,
      "outputs": []
    },
    {
      "cell_type": "markdown",
      "metadata": {
        "id": "vcqCZnpUergO"
      },
      "source": [
        "    Image generator"
      ]
    },
    {
      "cell_type": "code",
      "metadata": {
        "id": "R2xrpYk5RsD9"
      },
      "source": [
        "def image_processing(train_path, valid_path, test_path, batch_size):\r\n",
        "    define_train = ImageDataGenerator(rescale=1./255)\r\n",
        "    train_generator = define_train.flow_from_directory(train_path,\r\n",
        "                                                 target_size=image_size,\r\n",
        "                                                 batch_size=batch_size,\r\n",
        "                                                 class_mode='categorical',\r\n",
        "                                                 subset='training')\r\n",
        "    \r\n",
        "    define_valid = ImageDataGenerator(rescale=1./255)\r\n",
        "    validation_generator = define_valid.flow_from_directory(valid_path,\r\n",
        "                                                            target_size=image_size,\r\n",
        "                                                            batch_size=batch_size,\r\n",
        "                                                            class_mode='categorical')\r\n",
        "    \r\n",
        "    define_test = ImageDataGenerator(rescale=1./255)\r\n",
        "    test_generator = define_test.flow_from_directory(test_path,\r\n",
        "                                                     target_size=image_size,\r\n",
        "                                                     batch_size=batch_size,\r\n",
        "                                                     shuffle=False,\r\n",
        "                                                     class_mode='categorical')\r\n",
        "    \r\n",
        "    return train_generator, validation_generator, test_generator"
      ],
      "execution_count": 2,
      "outputs": []
    },
    {
      "cell_type": "code",
      "metadata": {
        "id": "mdNjuCxPV_mQ"
      },
      "source": [
        "batch_size=32\r\n",
        "image_size=(160, 120)\r\n",
        "input_shape=(120, 160, 3)\r\n",
        "epochs=25\r\n",
        "train_path = \"/content/drive/MyDrive/WBC_classification/Data/TRAIN/\"\r\n",
        "test_path = \"/content/drive/MyDrive/WBC_classification/Data/TEST/\"\r\n",
        "valid_path = \"/content/drive/MyDrive/WBC_classification/Data/VALID/\""
      ],
      "execution_count": 3,
      "outputs": []
    },
    {
      "cell_type": "code",
      "metadata": {
        "colab": {
          "base_uri": "https://localhost:8080/"
        },
        "id": "wnkHmsohXSWe",
        "outputId": "f7895295-5239-4622-ebbd-404ee1914293"
      },
      "source": [
        "image_generator = image_processing(train_path, valid_path, test_path, batch_size)"
      ],
      "execution_count": 4,
      "outputs": [
        {
          "output_type": "stream",
          "text": [
            "Found 5000 images belonging to 5 classes.\n",
            "Found 2836 images belonging to 5 classes.\n",
            "Found 1733 images belonging to 5 classes.\n"
          ],
          "name": "stdout"
        }
      ]
    },
    {
      "cell_type": "markdown",
      "metadata": {
        "id": "jCAgmhDWU4nG"
      },
      "source": [
        "    Load model and visualize"
      ]
    },
    {
      "cell_type": "code",
      "metadata": {
        "id": "1douB7y3U4LW"
      },
      "source": [
        "def fit_transform(model, model_name, image_generator, batch_size, epochs, num_train_img, num_val_img):\r\n",
        "    print(model.summary())\r\n",
        "    history = model.fit(image_generator[0],\r\n",
        "                                  #steps_per_epoch=num_train_img // batch_size,\r\n",
        "                                  epochs=epochs,\r\n",
        "                                  validation_data=image_generator[1])\r\n",
        "                                  #validation_steps=num_val_img // batch_size)\r\n",
        "    \r\n",
        "    # visualize\r\n",
        "\r\n",
        "    # Loss\r\n",
        "    plt.figure(figsize=(10,8))\r\n",
        "    plt.plot(history.history['loss'], 'red', linewidth=3.0)\r\n",
        "    plt.plot(history.history['val_loss'], 'yellow', linewidth=3.0)\r\n",
        "    plt.legend(['Training Loss', 'Validation Loss'], fontsize=18)\r\n",
        "    plt.xlabel('Epochs', fontsize=15)\r\n",
        "    plt.ylabel('Loss', fontsize=15)\r\n",
        "    plt.title('Loss model {}'.format(model_name), fontsize=15)\r\n",
        "\r\n",
        "    #Acc\r\n",
        "    plt.figure(figsize=(8,6))\r\n",
        "    plt.plot(history.history['accuracy'], 'red', linewidth=3.0)\r\n",
        "    plt.plot(history.history['val_accuracy'], 'yellow', linewidth=3.0)\r\n",
        "    plt.legend(['Training Accuracy', 'Validation Accuracy'], fontsize=18)\r\n",
        "    plt.xlabel('Epochs', fontsize=15)\r\n",
        "    plt.ylabel('Accuracy', fontsize=15)\r\n",
        "    plt.title('Accuracy model {}'.format(model_name), fontsize=15)\r\n",
        "\r\n",
        "    print('Validation Accuracy:',history.history['val_acc'][-1])"
      ],
      "execution_count": 10,
      "outputs": []
    },
    {
      "cell_type": "markdown",
      "metadata": {
        "id": "WdXu8DL_ZU88"
      },
      "source": [
        "    build model"
      ]
    },
    {
      "cell_type": "code",
      "metadata": {
        "id": "ce8Uj3nRZUj3"
      },
      "source": [
        "    model_name = \"WBC Classification\"\r\n",
        "    model = Sequential()\r\n",
        "    model.add(Lambda(lambda x: x/127.5 - 1., input_shape=(120, 160, 3), output_shape=(120, 160, 3)))\r\n",
        "    model.add(Conv2D(32, (3, 3), input_shape=(120, 160, 3)))\r\n",
        "    model.add(Activation('relu'))\r\n",
        "    model.add(MaxPooling2D(pool_size=(2, 2)))\r\n",
        "\r\n",
        "    model.add(Conv2D(32, (3, 3)))\r\n",
        "    model.add(Activation('relu'))\r\n",
        "    model.add(MaxPooling2D(pool_size=(2, 2)))\r\n",
        "\r\n",
        "    model.add(Conv2D(64, (3, 3)))\r\n",
        "    model.add(Activation('relu'))\r\n",
        "    model.add(MaxPooling2D(pool_size=(2, 2)))\r\n",
        "    \r\n",
        "    model.add(Conv2D(128, (3, 3)))\r\n",
        "    model.add(Activation('relu'))\r\n",
        "    model.add(MaxPooling2D(pool_size=(2, 2)))\r\n",
        "\r\n",
        "    model.add(Flatten())\r\n",
        "    model.add(Dense(64))\r\n",
        "    model.add(Activation('relu'))\r\n",
        "    model.add(Dropout(0.5))\r\n",
        "    model.add(Dense(5))\r\n",
        "    model.add(Activation('softmax'))\r\n",
        "\r\n",
        "    model.compile(loss='categorical_crossentropy',\r\n",
        "                optimizer=Adam(learning_rate=0.0001),\r\n",
        "                metrics=['accuracy'])"
      ],
      "execution_count": 6,
      "outputs": []
    },
    {
      "cell_type": "markdown",
      "metadata": {
        "id": "e5IwyIHpZ3zC"
      },
      "source": [
        "    Training Data"
      ]
    },
    {
      "cell_type": "code",
      "metadata": {
        "colab": {
          "base_uri": "https://localhost:8080/",
          "height": 1000
        },
        "id": "QX3Xg9OLZ3f-",
        "outputId": "89cde313-f5e7-41bb-c08c-a00a5aa33f15"
      },
      "source": [
        "fit_transform(model, model_name, image_generator, batch_size, epochs, 5000, 2836)"
      ],
      "execution_count": 9,
      "outputs": [
        {
          "output_type": "stream",
          "text": [
            "Model: \"sequential\"\n",
            "_________________________________________________________________\n",
            "Layer (type)                 Output Shape              Param #   \n",
            "=================================================================\n",
            "lambda (Lambda)              (None, 120, 160, 3)       0         \n",
            "_________________________________________________________________\n",
            "conv2d (Conv2D)              (None, 118, 158, 32)      896       \n",
            "_________________________________________________________________\n",
            "activation (Activation)      (None, 118, 158, 32)      0         \n",
            "_________________________________________________________________\n",
            "max_pooling2d (MaxPooling2D) (None, 59, 79, 32)        0         \n",
            "_________________________________________________________________\n",
            "conv2d_1 (Conv2D)            (None, 57, 77, 32)        9248      \n",
            "_________________________________________________________________\n",
            "activation_1 (Activation)    (None, 57, 77, 32)        0         \n",
            "_________________________________________________________________\n",
            "max_pooling2d_1 (MaxPooling2 (None, 28, 38, 32)        0         \n",
            "_________________________________________________________________\n",
            "conv2d_2 (Conv2D)            (None, 26, 36, 64)        18496     \n",
            "_________________________________________________________________\n",
            "activation_2 (Activation)    (None, 26, 36, 64)        0         \n",
            "_________________________________________________________________\n",
            "max_pooling2d_2 (MaxPooling2 (None, 13, 18, 64)        0         \n",
            "_________________________________________________________________\n",
            "conv2d_3 (Conv2D)            (None, 11, 16, 128)       73856     \n",
            "_________________________________________________________________\n",
            "activation_3 (Activation)    (None, 11, 16, 128)       0         \n",
            "_________________________________________________________________\n",
            "max_pooling2d_3 (MaxPooling2 (None, 5, 8, 128)         0         \n",
            "_________________________________________________________________\n",
            "flatten (Flatten)            (None, 5120)              0         \n",
            "_________________________________________________________________\n",
            "dense (Dense)                (None, 64)                327744    \n",
            "_________________________________________________________________\n",
            "activation_4 (Activation)    (None, 64)                0         \n",
            "_________________________________________________________________\n",
            "dropout (Dropout)            (None, 64)                0         \n",
            "_________________________________________________________________\n",
            "dense_1 (Dense)              (None, 5)                 325       \n",
            "_________________________________________________________________\n",
            "activation_5 (Activation)    (None, 5)                 0         \n",
            "=================================================================\n",
            "Total params: 430,565\n",
            "Trainable params: 430,565\n",
            "Non-trainable params: 0\n",
            "_________________________________________________________________\n",
            "None\n",
            "Epoch 1/25\n",
            "79/79 [==============================] - 122s 2s/step - loss: 1.6100 - accuracy: 0.2002 - val_loss: 1.6102 - val_accuracy: 0.1710\n",
            "Epoch 2/25\n",
            "79/79 [==============================] - 25s 312ms/step - loss: 1.6097 - accuracy: 0.1982 - val_loss: 1.6096 - val_accuracy: 0.2207\n",
            "Epoch 3/25\n",
            "79/79 [==============================] - 25s 313ms/step - loss: 1.6096 - accuracy: 0.2016 - val_loss: 1.6094 - val_accuracy: 0.2207\n",
            "Epoch 4/25\n",
            "79/79 [==============================] - 25s 312ms/step - loss: 1.6095 - accuracy: 0.1948 - val_loss: 1.6094 - val_accuracy: 0.2207\n",
            "Epoch 5/25\n",
            "79/79 [==============================] - 25s 311ms/step - loss: 1.6095 - accuracy: 0.2020 - val_loss: 1.6094 - val_accuracy: 0.2207\n",
            "Epoch 6/25\n",
            "79/79 [==============================] - 25s 312ms/step - loss: 1.6095 - accuracy: 0.1982 - val_loss: 1.6094 - val_accuracy: 0.2207\n",
            "Epoch 7/25\n",
            "79/79 [==============================] - 24s 311ms/step - loss: 1.6095 - accuracy: 0.1956 - val_loss: 1.6094 - val_accuracy: 0.2207\n",
            "Epoch 8/25\n",
            "79/79 [==============================] - 25s 312ms/step - loss: 1.6097 - accuracy: 0.1942 - val_loss: 1.6095 - val_accuracy: 0.2169\n",
            "Epoch 9/25\n",
            "79/79 [==============================] - 25s 312ms/step - loss: 1.6097 - accuracy: 0.1944 - val_loss: 1.6095 - val_accuracy: 0.1781\n",
            "Epoch 10/25\n",
            "79/79 [==============================] - 25s 318ms/step - loss: 1.6095 - accuracy: 0.1962 - val_loss: 1.6095 - val_accuracy: 0.1781\n",
            "Epoch 11/25\n",
            "79/79 [==============================] - 25s 312ms/step - loss: 1.6094 - accuracy: 0.2000 - val_loss: 1.6095 - val_accuracy: 0.1781\n",
            "Epoch 12/25\n",
            "79/79 [==============================] - 25s 313ms/step - loss: 1.6095 - accuracy: 0.2000 - val_loss: 1.6095 - val_accuracy: 0.1781\n",
            "Epoch 13/25\n",
            "79/79 [==============================] - 25s 312ms/step - loss: 1.6094 - accuracy: 0.2000 - val_loss: 1.6095 - val_accuracy: 0.1781\n",
            "Epoch 14/25\n",
            "79/79 [==============================] - 25s 312ms/step - loss: 1.6094 - accuracy: 0.2000 - val_loss: 1.6095 - val_accuracy: 0.1781\n",
            "Epoch 15/25\n",
            "79/79 [==============================] - 25s 314ms/step - loss: 1.6094 - accuracy: 0.2000 - val_loss: 1.6095 - val_accuracy: 0.1781\n",
            "Epoch 16/25\n",
            "79/79 [==============================] - 25s 313ms/step - loss: 1.6094 - accuracy: 0.2000 - val_loss: 1.6095 - val_accuracy: 0.1781\n",
            "Epoch 17/25\n",
            "79/79 [==============================] - 25s 312ms/step - loss: 1.6094 - accuracy: 0.1966 - val_loss: 1.6095 - val_accuracy: 0.1781\n",
            "Epoch 18/25\n",
            "79/79 [==============================] - 25s 312ms/step - loss: 1.6094 - accuracy: 0.2000 - val_loss: 1.6095 - val_accuracy: 0.1781\n",
            "Epoch 19/25\n",
            "79/79 [==============================] - 25s 313ms/step - loss: 1.6094 - accuracy: 0.2000 - val_loss: 1.6095 - val_accuracy: 0.1781\n",
            "Epoch 20/25\n",
            "79/79 [==============================] - 25s 313ms/step - loss: 1.6094 - accuracy: 0.2000 - val_loss: 1.6095 - val_accuracy: 0.1781\n",
            "Epoch 21/25\n",
            "79/79 [==============================] - 25s 313ms/step - loss: 1.6094 - accuracy: 0.2000 - val_loss: 1.6095 - val_accuracy: 0.1781\n",
            "Epoch 22/25\n",
            "79/79 [==============================] - 25s 319ms/step - loss: 1.6094 - accuracy: 0.2000 - val_loss: 1.6095 - val_accuracy: 0.1781\n",
            "Epoch 23/25\n",
            "79/79 [==============================] - 25s 314ms/step - loss: 1.6094 - accuracy: 0.2000 - val_loss: 1.6095 - val_accuracy: 0.1781\n",
            "Epoch 24/25\n",
            "79/79 [==============================] - 25s 312ms/step - loss: 1.6094 - accuracy: 0.2000 - val_loss: 1.6095 - val_accuracy: 0.1781\n",
            "Epoch 25/25\n",
            "79/79 [==============================] - 25s 312ms/step - loss: 1.6094 - accuracy: 0.2000 - val_loss: 1.6095 - val_accuracy: 0.1781\n"
          ],
          "name": "stdout"
        },
        {
          "output_type": "error",
          "ename": "KeyError",
          "evalue": "ignored",
          "traceback": [
            "\u001b[0;31m---------------------------------------------------------------------------\u001b[0m",
            "\u001b[0;31mKeyError\u001b[0m                                  Traceback (most recent call last)",
            "\u001b[0;32m<ipython-input-9-01629d5e4346>\u001b[0m in \u001b[0;36m<module>\u001b[0;34m()\u001b[0m\n\u001b[0;32m----> 1\u001b[0;31m \u001b[0mfit_transform\u001b[0m\u001b[0;34m(\u001b[0m\u001b[0mmodel\u001b[0m\u001b[0;34m,\u001b[0m \u001b[0mmodel_name\u001b[0m\u001b[0;34m,\u001b[0m \u001b[0mimage_generator\u001b[0m\u001b[0;34m,\u001b[0m \u001b[0mbatch_size\u001b[0m\u001b[0;34m,\u001b[0m \u001b[0mepochs\u001b[0m\u001b[0;34m,\u001b[0m \u001b[0;36m5000\u001b[0m\u001b[0;34m,\u001b[0m \u001b[0;36m2836\u001b[0m\u001b[0;34m)\u001b[0m\u001b[0;34m\u001b[0m\u001b[0;34m\u001b[0m\u001b[0m\n\u001b[0m",
            "\u001b[0;32m<ipython-input-8-b2cc03210ec4>\u001b[0m in \u001b[0;36mfit_transform\u001b[0;34m(model, model_name, image_generator, batch_size, epochs, num_train_img, num_val_img)\u001b[0m\n\u001b[1;32m     20\u001b[0m     \u001b[0;31m#Acc\u001b[0m\u001b[0;34m\u001b[0m\u001b[0;34m\u001b[0m\u001b[0;34m\u001b[0m\u001b[0m\n\u001b[1;32m     21\u001b[0m     \u001b[0mplt\u001b[0m\u001b[0;34m.\u001b[0m\u001b[0mfigure\u001b[0m\u001b[0;34m(\u001b[0m\u001b[0mfigsize\u001b[0m\u001b[0;34m=\u001b[0m\u001b[0;34m(\u001b[0m\u001b[0;36m8\u001b[0m\u001b[0;34m,\u001b[0m\u001b[0;36m6\u001b[0m\u001b[0;34m)\u001b[0m\u001b[0;34m)\u001b[0m\u001b[0;34m\u001b[0m\u001b[0;34m\u001b[0m\u001b[0m\n\u001b[0;32m---> 22\u001b[0;31m     \u001b[0mplt\u001b[0m\u001b[0;34m.\u001b[0m\u001b[0mplot\u001b[0m\u001b[0;34m(\u001b[0m\u001b[0mhistory\u001b[0m\u001b[0;34m.\u001b[0m\u001b[0mhistory\u001b[0m\u001b[0;34m[\u001b[0m\u001b[0;34m'acc'\u001b[0m\u001b[0;34m]\u001b[0m\u001b[0;34m,\u001b[0m \u001b[0;34m'red'\u001b[0m\u001b[0;34m,\u001b[0m \u001b[0mlinewidth\u001b[0m\u001b[0;34m=\u001b[0m\u001b[0;36m3.0\u001b[0m\u001b[0;34m)\u001b[0m\u001b[0;34m\u001b[0m\u001b[0;34m\u001b[0m\u001b[0m\n\u001b[0m\u001b[1;32m     23\u001b[0m     \u001b[0mplt\u001b[0m\u001b[0;34m.\u001b[0m\u001b[0mplot\u001b[0m\u001b[0;34m(\u001b[0m\u001b[0mhistory\u001b[0m\u001b[0;34m.\u001b[0m\u001b[0mhistory\u001b[0m\u001b[0;34m[\u001b[0m\u001b[0;34m'val_acc'\u001b[0m\u001b[0;34m]\u001b[0m\u001b[0;34m,\u001b[0m \u001b[0;34m'yellow'\u001b[0m\u001b[0;34m,\u001b[0m \u001b[0mlinewidth\u001b[0m\u001b[0;34m=\u001b[0m\u001b[0;36m3.0\u001b[0m\u001b[0;34m)\u001b[0m\u001b[0;34m\u001b[0m\u001b[0;34m\u001b[0m\u001b[0m\n\u001b[1;32m     24\u001b[0m     \u001b[0mplt\u001b[0m\u001b[0;34m.\u001b[0m\u001b[0mlegend\u001b[0m\u001b[0;34m(\u001b[0m\u001b[0;34m[\u001b[0m\u001b[0;34m'Training Accuracy'\u001b[0m\u001b[0;34m,\u001b[0m \u001b[0;34m'Validation Accuracy'\u001b[0m\u001b[0;34m]\u001b[0m\u001b[0;34m,\u001b[0m \u001b[0mfontsize\u001b[0m\u001b[0;34m=\u001b[0m\u001b[0;36m18\u001b[0m\u001b[0;34m)\u001b[0m\u001b[0;34m\u001b[0m\u001b[0;34m\u001b[0m\u001b[0m\n",
            "\u001b[0;31mKeyError\u001b[0m: 'acc'"
          ]
        },
        {
          "output_type": "display_data",
          "data": {
            "image/png": "[encoded data removed]",
            "text/plain": [
              "<Figure size 720x576 with 1 Axes>"
            ]
          },
          "metadata": {
            "tags": [],
            "needs_background": "light"
          }
        },
        {
          "output_type": "display_data",
          "data": {
            "text/plain": [
              "<Figure size 576x432 with 0 Axes>"
            ]
          },
          "metadata": {
            "tags": []
          }
        }
      ]
    }
  ]
}