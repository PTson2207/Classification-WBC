{
  "nbformat": 4,
  "nbformat_minor": 0,
  "metadata": {
    "colab": {
      "name": "Second-Classification.ipynb",
      "provenance": [],
      "mount_file_id": "1FMtP9SuilFDnAHjzI3R6PiXxTr65Pdzh",
      "authorship_tag": "ABX9TyPd3rqZObhrK6p8Z0jJt72w",
      "include_colab_link": true
    },
    "kernelspec": {
      "name": "python3",
      "display_name": "Python 3"
    }
  },
  "cells": [
    {
      "cell_type": "markdown",
      "metadata": {
        "id": "view-in-github",
        "colab_type": "text"
      },
      "source": [
        "<a href=\"https://colab.research.google.com/github/PTson2207/Classification-WBC/blob/main/Second_Classification.ipynb\" target=\"_parent\"><img src=\"https://colab.research.google.com/assets/colab-badge.svg\" alt=\"Open In Colab\"/></a>"
      ]
    },
    {
      "cell_type": "code",
      "metadata": {
        "id": "Nf0lVXfiebyp"
      },
      "source": [
        "import numpy as np\r\n",
        "import csv\r\n",
        "import cv2\r\n",
        "import os\r\n",
        "from keras.models import Sequential\r\n",
        "from keras.layers import Dense, Dropout, Flatten, Activation\r\n",
        "from keras.layers import Conv2D, MaxPooling2D, Lambda\r\n",
        "from keras.wrappers.scikit_learn import KerasClassifier\r\n",
        "from keras.utils import  np_utils\r\n",
        "from keras.preprocessing.image import  ImageDataGenerator\r\n",
        "from sklearn.model_selection import cross_val_score, KFold, train_test_split\r\n",
        "from sklearn.pipeline import Pipeline\r\n",
        "from sklearn.preprocessing import LabelEncoder\r\n",
        "from sklearn.metrics import roc_curve, auc"
      ],
      "execution_count": 1,
      "outputs": []
    },
    {
      "cell_type": "markdown",
      "metadata": {
        "id": "vcqCZnpUergO"
      },
      "source": [
        "    Image generator"
      ]
    },
    {
      "cell_type": "code",
      "metadata": {
        "id": "R2xrpYk5RsD9"
      },
      "source": [
        "def image_processing(train_path, valid_path, test_path, batch_size):\r\n",
        "    define_train = ImageDataGenerator(rescale=1./255,\r\n",
        "                                rotation_range=10,\r\n",
        "                                width_shift_range=0.1,\r\n",
        "                                height_shift_range=0.1,\r\n",
        "                                horizontal_flip=True,\r\n",
        "                                validation_split=0.2)\r\n",
        "    train_generator = define_train.flow_from_directory(train_path,\r\n",
        "                                                 target_size=image_size,\r\n",
        "                                                 batch_size=batch_size,\r\n",
        "                                                 class_mode='categorical',\r\n",
        "                                                 subset='training')\r\n",
        "\r\n",
        "    define_test = ImageDataGenerator(rescale=1./255)\r\n",
        "    test_generator = define_test.flow_from_directory(test_path,\r\n",
        "                                                     target_size=image_size,\r\n",
        "                                                     batch_size=batch_size,\r\n",
        "                                                     shuffle=False,\r\n",
        "                                                     class_mode='categorical')\r\n",
        "    \r\n",
        "    define_valid = ImageDataGenerator(rescale=1./255)\r\n",
        "    validation_generator = define_valid.flow_from_directory(valid_path,\r\n",
        "                                                            target_size=image_size,\r\n",
        "                                                            batch_size=batch_size,\r\n",
        "                                                            class_mode='categorical',\r\n",
        "                                                            subset='validation')\r\n",
        "    \r\n",
        "    return train_generator, validation_generator, test_generator"
      ],
      "execution_count": 5,
      "outputs": []
    },
    {
      "cell_type": "code",
      "metadata": {
        "id": "mdNjuCxPV_mQ"
      },
      "source": [
        "batch_size=32\r\n",
        "image_size=(160, 120)\r\n",
        "input_shape=(120, 160, 3)\r\n",
        "epochs=25\r\n",
        "train_path = \"/content/drive/MyDrive/WBC_classification/Data/TRAIN/\"\r\n",
        "test_path = \"/content/drive/MyDrive/WBC_classification/Data/TEST/\"\r\n",
        "valid_path = \"/content/drive/MyDrive/WBC_classification/Data/VALID/\""
      ],
      "execution_count": 3,
      "outputs": []
    },
    {
      "cell_type": "code",
      "metadata": {
        "colab": {
          "base_uri": "https://localhost:8080/"
        },
        "id": "wnkHmsohXSWe",
        "outputId": "2107c9c6-ea90-49d4-cf41-7554de16214d"
      },
      "source": [
        "image_generator = image_processing(train_path, valid_path, test_path, batch_size)"
      ],
      "execution_count": 6,
      "outputs": [
        {
          "output_type": "stream",
          "text": [
            "Found 4000 images belonging to 5 classes.\n",
            "Found 1733 images belonging to 5 classes.\n",
            "Found 0 images belonging to 5 classes.\n"
          ],
          "name": "stdout"
        }
      ]
    }
  ]
}