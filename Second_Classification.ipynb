{
  "nbformat": 4,
  "nbformat_minor": 0,
  "metadata": {
    "colab": {
      "name": "Second-Classification.ipynb",
      "provenance": [],
      "mount_file_id": "1FMtP9SuilFDnAHjzI3R6PiXxTr65Pdzh",
      "authorship_tag": "ABX9TyPmNSO0PaJV/2XmD+Bm8ZjJ",
      "include_colab_link": true
    },
    "kernelspec": {
      "name": "python3",
      "display_name": "Python 3"
    }
  },
  "cells": [
    {
      "cell_type": "markdown",
      "metadata": {
        "id": "view-in-github",
        "colab_type": "text"
      },
      "source": [
        "<a href=\"https://colab.research.google.com/github/PTson2207/Classification-WBC/blob/main/Second_Classification.ipynb\" target=\"_parent\"><img src=\"https://colab.research.google.com/assets/colab-badge.svg\" alt=\"Open In Colab\"/></a>"
      ]
    },
    {
      "cell_type": "code",
      "metadata": {
        "id": "Nf0lVXfiebyp"
      },
      "source": [
        "import numpy as np\r\n",
        "import csv\r\n",
        "import cv2\r\n",
        "import os\r\n",
        "from keras.models import Sequential\r\n",
        "from keras.layers import Dense, Dropout, Flatten, Activation\r\n",
        "from keras.layers import Conv2D, MaxPooling2D, Lambda\r\n",
        "from keras.wrappers.scikit_learn import KerasClassifier\r\n",
        "from keras.utils import  np_utils\r\n",
        "from keras.preprocessing.image import  ImageDataGenerator\r\n",
        "from sklearn.model_selection import cross_val_score, KFold, train_test_split\r\n",
        "from sklearn.pipeline import Pipeline\r\n",
        "from sklearn.preprocessing import LabelEncoder\r\n",
        "from sklearn.metrics import roc_curve, auc"
      ],
      "execution_count": 1,
      "outputs": []
    },
    {
      "cell_type": "markdown",
      "metadata": {
        "id": "vcqCZnpUergO"
      },
      "source": [
        "    LoadData and Processiong"
      ]
    },
    {
      "cell_type": "code",
      "metadata": {
        "id": "8r17ZDTteoUi"
      },
      "source": [
        "def load_data(folder):\r\n",
        "    data = []\r\n",
        "    labels = []\r\n",
        "\r\n",
        "    for raw in"
      ],
      "execution_count": null,
      "outputs": []
    }
  ]
}