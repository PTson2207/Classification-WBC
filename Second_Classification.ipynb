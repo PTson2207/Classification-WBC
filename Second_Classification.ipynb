{
  "nbformat": 4,
  "nbformat_minor": 0,
  "metadata": {
    "colab": {
      "name": "Second-Classification.ipynb",
      "provenance": [],
      "mount_file_id": "1FMtP9SuilFDnAHjzI3R6PiXxTr65Pdzh",
      "authorship_tag": "ABX9TyNXMEQzzmgeaF/m6ll8y7fy",
      "include_colab_link": true
    },
    "kernelspec": {
      "name": "python3",
      "display_name": "Python 3"
    },
    "accelerator": "GPU"
  },
  "cells": [
    {
      "cell_type": "markdown",
      "metadata": {
        "id": "view-in-github",
        "colab_type": "text"
      },
      "source": [
        "<a href=\"https://colab.research.google.com/github/PTson2207/Classification-WBC/blob/main/Second_Classification.ipynb\" target=\"_parent\"><img src=\"https://colab.research.google.com/assets/colab-badge.svg\" alt=\"Open In Colab\"/></a>"
      ]
    },
    {
      "cell_type": "code",
      "metadata": {
        "id": "Nf0lVXfiebyp"
      },
      "source": [
        "import numpy as np\r\n",
        "import csv\r\n",
        "import cv2\r\n",
        "import os\r\n",
        "from keras.models import Sequential\r\n",
        "from keras.layers import Dense, Dropout, Flatten, Activation\r\n",
        "from keras.layers import Conv2D, MaxPooling2D, Lambda\r\n",
        "from keras.wrappers.scikit_learn import KerasClassifier\r\n",
        "from keras.utils import  np_utils\r\n",
        "from keras.preprocessing.image import  ImageDataGenerator\r\n",
        "from sklearn.model_selection import cross_val_score, KFold, train_test_split\r\n",
        "from sklearn.pipeline import Pipeline\r\n",
        "from sklearn.preprocessing import LabelEncoder\r\n",
        "from sklearn.metrics import roc_curve, auc\r\n",
        "import matplotlib.pyplot as plt\r\n",
        "from tensorflow.keras.optimizers import  Adam"
      ],
      "execution_count": 1,
      "outputs": []
    },
    {
      "cell_type": "markdown",
      "metadata": {
        "id": "vcqCZnpUergO"
      },
      "source": [
        "    Image generator"
      ]
    },
    {
      "cell_type": "code",
      "metadata": {
        "id": "R2xrpYk5RsD9"
      },
      "source": [
        "def image_processing(train_path, valid_path, test_path, batch_size):\r\n",
        "    define_train = ImageDataGenerator(rescale=1./255)\r\n",
        "    train_generator = define_train.flow_from_directory(train_path,\r\n",
        "                                                 target_size=image_size,\r\n",
        "                                                 batch_size=batch_size,\r\n",
        "                                                 class_mode='categorical',\r\n",
        "                                                 subset='training')\r\n",
        "    \r\n",
        "    define_valid = ImageDataGenerator(rescale=1./255)\r\n",
        "    validation_generator = define_valid.flow_from_directory(valid_path,\r\n",
        "                                                            target_size=image_size,\r\n",
        "                                                            batch_size=batch_size,\r\n",
        "                                                            class_mode='categorical')\r\n",
        "    \r\n",
        "    define_test = ImageDataGenerator(rescale=1./255)\r\n",
        "    test_generator = define_test.flow_from_directory(test_path,\r\n",
        "                                                     target_size=image_size,\r\n",
        "                                                     batch_size=batch_size,\r\n",
        "                                                     shuffle=False,\r\n",
        "                                                     class_mode='categorical')\r\n",
        "    \r\n",
        "    return train_generator, validation_generator, test_generator"
      ],
      "execution_count": 2,
      "outputs": []
    },
    {
      "cell_type": "code",
      "metadata": {
        "id": "mdNjuCxPV_mQ"
      },
      "source": [
        "batch_size=32\r\n",
        "image_size=(160, 120)\r\n",
        "input_shape=(120, 160, 3)\r\n",
        "epochs=25\r\n",
        "train_path = \"/content/drive/MyDrive/WBC_classification/Data/TRAIN/\"\r\n",
        "test_path = \"/content/drive/MyDrive/WBC_classification/Data/TEST/\"\r\n",
        "valid_path = \"/content/drive/MyDrive/WBC_classification/Data/VALID/\""
      ],
      "execution_count": 3,
      "outputs": []
    },
    {
      "cell_type": "code",
      "metadata": {
        "colab": {
          "base_uri": "https://localhost:8080/"
        },
        "id": "wnkHmsohXSWe",
        "outputId": "11e76b01-5dd2-4547-9e23-d064c77e6b52"
      },
      "source": [
        "image_generator = image_processing(train_path, valid_path, test_path, batch_size)"
      ],
      "execution_count": 4,
      "outputs": [
        {
          "output_type": "stream",
          "text": [
            "Found 5000 images belonging to 5 classes.\n",
            "Found 2836 images belonging to 5 classes.\n",
            "Found 1733 images belonging to 5 classes.\n"
          ],
          "name": "stdout"
        }
      ]
    },
    {
      "cell_type": "markdown",
      "metadata": {
        "id": "jCAgmhDWU4nG"
      },
      "source": [
        "    Load model and visualize"
      ]
    },
    {
      "cell_type": "code",
      "metadata": {
        "id": "1douB7y3U4LW"
      },
      "source": [
        "def fit_transform(model, model_name, image_generator, batch_size, epochs, num_train_img, num_val_img):\r\n",
        "    print(model.summary())\r\n",
        "    history = model.fit(image_generator[0],\r\n",
        "                                  #steps_per_epoch=num_train_img // batch_size,\r\n",
        "                                  epochs=epochs,\r\n",
        "                                  validation_data=image_generator[1])\r\n",
        "                                  #validation_steps=num_val_img // batch_size)\r\n",
        "    \r\n",
        "    # visualize\r\n",
        "\r\n",
        "    # Loss\r\n",
        "    plt.figure(figsize=(8,6))\r\n",
        "    plt.plot(history.history['loss'], 'red', linewidth=3.0)\r\n",
        "    plt.plot(history.history['val_loss'], 'yellow', linewidth=3.0)\r\n",
        "    plt.legend(['Training Loss', 'Validation Loss'], fontsize=18)\r\n",
        "    plt.xlabel('Epochs', fontsize=15)\r\n",
        "    plt.ylabel('Loss', fontsize=15)\r\n",
        "    plt.title('Loss model {}'.format(model_name), fontsize=15)\r\n",
        "\r\n",
        "    #Acc\r\n",
        "    plt.figure(figsize=(8,6))\r\n",
        "    plt.plot(history.history['accuracy'], 'red', linewidth=3.0)\r\n",
        "    plt.plot(history.history['val_accuracy'], 'yellow', linewidth=3.0)\r\n",
        "    plt.legend(['Training Accuracy', 'Validation Accuracy'], fontsize=18)\r\n",
        "    plt.xlabel('Epochs', fontsize=15)\r\n",
        "    plt.ylabel('Accuracy', fontsize=15)\r\n",
        "    plt.title('Accuracy model {}'.format(model_name), fontsize=15)\r\n",
        "\r\n",
        "    print('Validation Accuracy:',history.history['val_accuracy'][-1])"
      ],
      "execution_count": 5,
      "outputs": []
    },
    {
      "cell_type": "markdown",
      "metadata": {
        "id": "WdXu8DL_ZU88"
      },
      "source": [
        "    build model"
      ]
    },
    {
      "cell_type": "code",
      "metadata": {
        "id": "ce8Uj3nRZUj3"
      },
      "source": [
        "    model_name = \"WBC Classification 1\"\r\n",
        "    model = Sequential()\r\n",
        "    model.add(Lambda(lambda x: x/127.5 - 1., input_shape=(120, 160, 3), output_shape=(120, 160, 3)))\r\n",
        "    model.add(Conv2D(32, (3, 3), input_shape=(120, 160, 3)))\r\n",
        "    model.add(Activation('relu'))\r\n",
        "    model.add(MaxPooling2D(pool_size=(2, 2)))\r\n",
        "\r\n",
        "    model.add(Conv2D(32, (3, 3)))\r\n",
        "    model.add(Activation('relu'))\r\n",
        "    model.add(MaxPooling2D(pool_size=(2, 2)))\r\n",
        "\r\n",
        "    model.add(Conv2D(64, (3, 3)))\r\n",
        "    model.add(Activation('relu'))\r\n",
        "    model.add(MaxPooling2D(pool_size=(2, 2)))\r\n",
        "    \r\n",
        "    model.add(Conv2D(128, (3, 3)))\r\n",
        "    model.add(Activation('relu'))\r\n",
        "    model.add(MaxPooling2D(pool_size=(2, 2)))\r\n",
        "\r\n",
        "    model.add(Flatten())\r\n",
        "    model.add(Dense(64))\r\n",
        "    model.add(Activation('relu'))\r\n",
        "    model.add(Dropout(0.5))\r\n",
        "    model.add(Dense(5))\r\n",
        "    model.add(Activation('softmax'))\r\n",
        "\r\n",
        "    model.compile(loss='categorical_crossentropy',\r\n",
        "                optimizer=Adam(learning_rate=0.0001),\r\n",
        "                metrics=['accuracy'])"
      ],
      "execution_count": 6,
      "outputs": []
    },
    {
      "cell_type": "markdown",
      "metadata": {
        "id": "pj4TkIUnsGYg"
      },
      "source": [
        "    Encoder"
      ]
    },
    {
      "cell_type": "markdown",
      "metadata": {
        "id": "e5IwyIHpZ3zC"
      },
      "source": [
        "    Training Data"
      ]
    },
    {
      "cell_type": "code",
      "metadata": {
        "colab": {
          "base_uri": "https://localhost:8080/",
          "height": 1000
        },
        "id": "QX3Xg9OLZ3f-",
        "outputId": "267372b4-2e7f-42de-da87-6ad727510022"
      },
      "source": [
        "epochs= 50\r\n",
        "fit_transform(model, model_name, image_generator, batch_size, epochs, 5000, 2836)"
      ],
      "execution_count": 7,
      "outputs": [
        {
          "output_type": "stream",
          "text": [
            "Model: \"sequential\"\n",
            "_________________________________________________________________\n",
            "Layer (type)                 Output Shape              Param #   \n",
            "=================================================================\n",
            "lambda (Lambda)              (None, 120, 160, 3)       0         \n",
            "_________________________________________________________________\n",
            "conv2d (Conv2D)              (None, 118, 158, 32)      896       \n",
            "_________________________________________________________________\n",
            "activation (Activation)      (None, 118, 158, 32)      0         \n",
            "_________________________________________________________________\n",
            "max_pooling2d (MaxPooling2D) (None, 59, 79, 32)        0         \n",
            "_________________________________________________________________\n",
            "conv2d_1 (Conv2D)            (None, 57, 77, 32)        9248      \n",
            "_________________________________________________________________\n",
            "activation_1 (Activation)    (None, 57, 77, 32)        0         \n",
            "_________________________________________________________________\n",
            "max_pooling2d_1 (MaxPooling2 (None, 28, 38, 32)        0         \n",
            "_________________________________________________________________\n",
            "conv2d_2 (Conv2D)            (None, 26, 36, 64)        18496     \n",
            "_________________________________________________________________\n",
            "activation_2 (Activation)    (None, 26, 36, 64)        0         \n",
            "_________________________________________________________________\n",
            "max_pooling2d_2 (MaxPooling2 (None, 13, 18, 64)        0         \n",
            "_________________________________________________________________\n",
            "conv2d_3 (Conv2D)            (None, 11, 16, 128)       73856     \n",
            "_________________________________________________________________\n",
            "activation_3 (Activation)    (None, 11, 16, 128)       0         \n",
            "_________________________________________________________________\n",
            "max_pooling2d_3 (MaxPooling2 (None, 5, 8, 128)         0         \n",
            "_________________________________________________________________\n",
            "flatten (Flatten)            (None, 5120)              0         \n",
            "_________________________________________________________________\n",
            "dense (Dense)                (None, 64)                327744    \n",
            "_________________________________________________________________\n",
            "activation_4 (Activation)    (None, 64)                0         \n",
            "_________________________________________________________________\n",
            "dropout (Dropout)            (None, 64)                0         \n",
            "_________________________________________________________________\n",
            "dense_1 (Dense)              (None, 5)                 325       \n",
            "_________________________________________________________________\n",
            "activation_5 (Activation)    (None, 5)                 0         \n",
            "=================================================================\n",
            "Total params: 430,565\n",
            "Trainable params: 430,565\n",
            "Non-trainable params: 0\n",
            "_________________________________________________________________\n",
            "None\n",
            "Epoch 1/50\n",
            "157/157 [==============================] - 2597s 16s/step - loss: 1.6132 - accuracy: 0.1879 - val_loss: 1.6101 - val_accuracy: 0.1781\n",
            "Epoch 2/50\n",
            "157/157 [==============================] - 26s 164ms/step - loss: 1.6099 - accuracy: 0.1982 - val_loss: 1.6090 - val_accuracy: 0.2133\n",
            "Epoch 3/50\n",
            "157/157 [==============================] - 26s 163ms/step - loss: 1.6097 - accuracy: 0.2031 - val_loss: 1.6093 - val_accuracy: 0.2207\n",
            "Epoch 4/50\n",
            "157/157 [==============================] - 25s 162ms/step - loss: 1.6101 - accuracy: 0.1962 - val_loss: 1.6091 - val_accuracy: 0.2207\n",
            "Epoch 5/50\n",
            "157/157 [==============================] - 26s 163ms/step - loss: 1.6096 - accuracy: 0.2029 - val_loss: 1.6094 - val_accuracy: 0.2133\n",
            "Epoch 6/50\n",
            "157/157 [==============================] - 25s 161ms/step - loss: 1.6097 - accuracy: 0.1929 - val_loss: 1.6101 - val_accuracy: 0.2169\n",
            "Epoch 7/50\n",
            "157/157 [==============================] - 25s 162ms/step - loss: 1.6094 - accuracy: 0.2051 - val_loss: 1.6095 - val_accuracy: 0.2207\n",
            "Epoch 8/50\n",
            "157/157 [==============================] - 26s 163ms/step - loss: 1.6095 - accuracy: 0.1969 - val_loss: 1.6096 - val_accuracy: 0.1710\n",
            "Epoch 9/50\n",
            "157/157 [==============================] - 25s 162ms/step - loss: 1.6095 - accuracy: 0.1950 - val_loss: 1.6096 - val_accuracy: 0.1710\n",
            "Epoch 10/50\n",
            "157/157 [==============================] - 25s 161ms/step - loss: 1.6094 - accuracy: 0.2157 - val_loss: 1.6096 - val_accuracy: 0.1710\n",
            "Epoch 11/50\n",
            "157/157 [==============================] - 26s 163ms/step - loss: 1.6095 - accuracy: 0.1908 - val_loss: 1.6095 - val_accuracy: 0.1710\n",
            "Epoch 12/50\n",
            "157/157 [==============================] - 25s 162ms/step - loss: 1.6094 - accuracy: 0.2040 - val_loss: 1.6096 - val_accuracy: 0.1710\n",
            "Epoch 13/50\n",
            "157/157 [==============================] - 25s 162ms/step - loss: 1.6095 - accuracy: 0.1922 - val_loss: 1.6096 - val_accuracy: 0.1710\n",
            "Epoch 14/50\n",
            "157/157 [==============================] - 25s 162ms/step - loss: 1.6095 - accuracy: 0.1939 - val_loss: 1.6095 - val_accuracy: 0.1710\n",
            "Epoch 15/50\n",
            "157/157 [==============================] - 25s 161ms/step - loss: 1.6095 - accuracy: 0.2108 - val_loss: 1.6095 - val_accuracy: 0.2133\n",
            "Epoch 16/50\n",
            "157/157 [==============================] - 25s 162ms/step - loss: 1.6095 - accuracy: 0.2043 - val_loss: 1.6095 - val_accuracy: 0.1710\n",
            "Epoch 17/50\n",
            "157/157 [==============================] - 26s 163ms/step - loss: 1.6094 - accuracy: 0.2064 - val_loss: 1.6095 - val_accuracy: 0.1710\n",
            "Epoch 18/50\n",
            "157/157 [==============================] - 25s 163ms/step - loss: 1.6094 - accuracy: 0.2015 - val_loss: 1.6095 - val_accuracy: 0.2133\n",
            "Epoch 19/50\n",
            "157/157 [==============================] - 26s 163ms/step - loss: 1.6094 - accuracy: 0.2180 - val_loss: 1.6095 - val_accuracy: 0.2133\n",
            "Epoch 20/50\n",
            "157/157 [==============================] - 25s 162ms/step - loss: 1.6095 - accuracy: 0.1994 - val_loss: 1.6095 - val_accuracy: 0.2133\n",
            "Epoch 21/50\n",
            "157/157 [==============================] - 25s 162ms/step - loss: 1.6095 - accuracy: 0.1910 - val_loss: 1.6095 - val_accuracy: 0.2133\n",
            "Epoch 22/50\n",
            "157/157 [==============================] - 25s 162ms/step - loss: 1.6094 - accuracy: 0.2099 - val_loss: 1.6095 - val_accuracy: 0.2133\n",
            "Epoch 23/50\n",
            "157/157 [==============================] - 26s 163ms/step - loss: 1.6094 - accuracy: 0.1941 - val_loss: 1.6095 - val_accuracy: 0.2133\n",
            "Epoch 24/50\n",
            "157/157 [==============================] - 25s 160ms/step - loss: 1.6094 - accuracy: 0.2104 - val_loss: 1.6095 - val_accuracy: 0.2133\n",
            "Epoch 25/50\n",
            "157/157 [==============================] - 25s 160ms/step - loss: 1.6094 - accuracy: 0.1938 - val_loss: 1.6095 - val_accuracy: 0.2133\n",
            "Epoch 26/50\n",
            "157/157 [==============================] - 25s 161ms/step - loss: 1.6095 - accuracy: 0.1946 - val_loss: 1.6095 - val_accuracy: 0.1710\n",
            "Epoch 27/50\n",
            "157/157 [==============================] - 25s 162ms/step - loss: 1.6093 - accuracy: 0.2114 - val_loss: 1.6095 - val_accuracy: 0.2133\n",
            "Epoch 28/50\n",
            "157/157 [==============================] - 25s 162ms/step - loss: 1.6094 - accuracy: 0.2020 - val_loss: 1.6095 - val_accuracy: 0.1710\n",
            "Epoch 29/50\n",
            "157/157 [==============================] - 25s 163ms/step - loss: 1.6095 - accuracy: 0.1988 - val_loss: 1.6095 - val_accuracy: 0.2133\n",
            "Epoch 30/50\n",
            "157/157 [==============================] - 25s 162ms/step - loss: 1.6094 - accuracy: 0.2058 - val_loss: 1.6095 - val_accuracy: 0.1781\n",
            "Epoch 31/50\n",
            "157/157 [==============================] - 25s 162ms/step - loss: 1.6094 - accuracy: 0.1968 - val_loss: 1.6095 - val_accuracy: 0.2133\n",
            "Epoch 32/50\n",
            "157/157 [==============================] - 25s 161ms/step - loss: 1.6094 - accuracy: 0.1976 - val_loss: 1.6095 - val_accuracy: 0.1710\n",
            "Epoch 33/50\n",
            "157/157 [==============================] - 25s 161ms/step - loss: 1.6094 - accuracy: 0.1992 - val_loss: 1.6094 - val_accuracy: 0.1710\n",
            "Epoch 34/50\n",
            "157/157 [==============================] - 25s 160ms/step - loss: 1.6094 - accuracy: 0.2109 - val_loss: 1.6094 - val_accuracy: 0.1710\n",
            "Epoch 35/50\n",
            "157/157 [==============================] - 26s 163ms/step - loss: 1.6094 - accuracy: 0.2161 - val_loss: 1.6094 - val_accuracy: 0.1710\n",
            "Epoch 36/50\n",
            "157/157 [==============================] - 25s 160ms/step - loss: 1.6094 - accuracy: 0.2084 - val_loss: 1.6095 - val_accuracy: 0.1710\n",
            "Epoch 37/50\n",
            "157/157 [==============================] - 25s 162ms/step - loss: 1.6094 - accuracy: 0.2081 - val_loss: 1.6095 - val_accuracy: 0.1710\n",
            "Epoch 38/50\n",
            "157/157 [==============================] - 25s 160ms/step - loss: 1.6094 - accuracy: 0.1877 - val_loss: 1.6095 - val_accuracy: 0.1710\n",
            "Epoch 39/50\n",
            "157/157 [==============================] - 25s 160ms/step - loss: 1.6094 - accuracy: 0.1995 - val_loss: 1.6094 - val_accuracy: 0.2207\n",
            "Epoch 40/50\n",
            "157/157 [==============================] - 25s 161ms/step - loss: 1.6094 - accuracy: 0.2030 - val_loss: 1.6094 - val_accuracy: 0.2207\n",
            "Epoch 41/50\n",
            "157/157 [==============================] - 25s 161ms/step - loss: 1.6095 - accuracy: 0.2036 - val_loss: 1.6094 - val_accuracy: 0.2207\n",
            "Epoch 42/50\n",
            "157/157 [==============================] - 25s 160ms/step - loss: 1.6096 - accuracy: 0.1871 - val_loss: 1.6094 - val_accuracy: 0.2207\n",
            "Epoch 43/50\n",
            "157/157 [==============================] - 25s 161ms/step - loss: 1.6095 - accuracy: 0.1981 - val_loss: 1.6094 - val_accuracy: 0.2133\n",
            "Epoch 44/50\n",
            "157/157 [==============================] - 25s 159ms/step - loss: 1.6094 - accuracy: 0.1962 - val_loss: 1.6095 - val_accuracy: 0.1710\n",
            "Epoch 45/50\n",
            "157/157 [==============================] - 25s 160ms/step - loss: 1.6095 - accuracy: 0.1985 - val_loss: 1.6094 - val_accuracy: 0.2133\n",
            "Epoch 46/50\n",
            "157/157 [==============================] - 25s 161ms/step - loss: 1.6094 - accuracy: 0.2029 - val_loss: 1.6094 - val_accuracy: 0.2133\n",
            "Epoch 47/50\n",
            "157/157 [==============================] - 25s 163ms/step - loss: 1.6094 - accuracy: 0.2051 - val_loss: 1.6094 - val_accuracy: 0.2133\n",
            "Epoch 48/50\n",
            "157/157 [==============================] - 25s 161ms/step - loss: 1.6095 - accuracy: 0.1952 - val_loss: 1.6094 - val_accuracy: 0.2207\n",
            "Epoch 49/50\n",
            "157/157 [==============================] - 25s 161ms/step - loss: 1.6094 - accuracy: 0.2087 - val_loss: 1.6095 - val_accuracy: 0.1710\n",
            "Epoch 50/50\n",
            "157/157 [==============================] - 26s 164ms/step - loss: 1.6095 - accuracy: 0.1911 - val_loss: 1.6094 - val_accuracy: 0.1710\n",
            "Validation Accuracy: 0.17101551592350006\n"
          ],
          "name": "stdout"
        },
        {
          "output_type": "display_data",
          "data": {
            "image/png": "[encoded data removed]",
            "text/plain": [
              "<Figure size 576x432 with 1 Axes>"
            ]
          },
          "metadata": {
            "tags": [],
            "needs_background": "light"
          }
        },
        {
          "output_type": "display_data",
          "data": {
            "image/png": "[encoded data removed]",
            "text/plain": [
              "<Figure size 576x432 with 1 Axes>"
            ]
          },
          "metadata": {
            "tags": [],
            "needs_background": "light"
          }
        }
      ]
    },
    {
      "cell_type": "markdown",
      "metadata": {
        "id": "p0VXPNoB_Eg1"
      },
      "source": [
        "    Other Model"
      ]
    },
    {
      "cell_type": "code",
      "metadata": {
        "id": "V_K5c0z7_EEh"
      },
      "source": [
        "model_name = 'WBC Classification 2'\r\n",
        "model2 = Sequential()\r\n",
        "model2.add(Conv2D(32, kernel_size=(3, 3),\r\n",
        "                     activation='relu',\r\n",
        "                     input_shape=(120, 160, 3),strides=1))\r\n",
        "model2.add(MaxPooling2D(pool_size=(2, 2)))\r\n",
        "\r\n",
        "model2.add(Conv2D(32, (3, 3), activation='relu'))\r\n",
        "model2.add(MaxPooling2D(pool_size=(2, 2)))\r\n",
        "#extra CRP\r\n",
        "model2.add(Conv2D(64, (3, 3), activation='relu'))\r\n",
        "model2.add(MaxPooling2D(pool_size=(2, 2)))\r\n",
        "\r\n",
        "model2.add(Flatten())\r\n",
        "model2.add(Dense(128, activation='relu'))\r\n",
        "model2.add(Dense(5, activation='softmax'))\r\n",
        "model2.compile(loss='categorical_crossentropy',\r\n",
        "                  optimizer='adam',\r\n",
        "                  metrics=['accuracy'])"
      ],
      "execution_count": 12,
      "outputs": []
    },
    {
      "cell_type": "code",
      "metadata": {
        "colab": {
          "base_uri": "https://localhost:8080/"
        },
        "id": "lV540ipT_fZY",
        "outputId": "7b34aae1-31f9-482a-8fa5-8a6cce53e8b1"
      },
      "source": [
        "fit_transform(model2, model_name, image_generator, batch_size, epochs, 5000, 2836)"
      ],
      "execution_count": null,
      "outputs": [
        {
          "output_type": "stream",
          "text": [
            "Model: \"sequential_2\"\n",
            "_________________________________________________________________\n",
            "Layer (type)                 Output Shape              Param #   \n",
            "=================================================================\n",
            "conv2d_7 (Conv2D)            (None, 118, 158, 32)      896       \n",
            "_________________________________________________________________\n",
            "max_pooling2d_7 (MaxPooling2 (None, 59, 79, 32)        0         \n",
            "_________________________________________________________________\n",
            "conv2d_8 (Conv2D)            (None, 57, 77, 32)        9248      \n",
            "_________________________________________________________________\n",
            "max_pooling2d_8 (MaxPooling2 (None, 28, 38, 32)        0         \n",
            "_________________________________________________________________\n",
            "conv2d_9 (Conv2D)            (None, 26, 36, 64)        18496     \n",
            "_________________________________________________________________\n",
            "max_pooling2d_9 (MaxPooling2 (None, 13, 18, 64)        0         \n",
            "_________________________________________________________________\n",
            "flatten_2 (Flatten)          (None, 14976)             0         \n",
            "_________________________________________________________________\n",
            "dense_4 (Dense)              (None, 128)               1917056   \n",
            "_________________________________________________________________\n",
            "dense_5 (Dense)              (None, 5)                 645       \n",
            "=================================================================\n",
            "Total params: 1,946,341\n",
            "Trainable params: 1,946,341\n",
            "Non-trainable params: 0\n",
            "_________________________________________________________________\n",
            "None\n",
            "Epoch 1/50\n",
            "157/157 [==============================] - 26s 164ms/step - loss: 1.3567 - accuracy: 0.4083 - val_loss: 0.4069 - val_accuracy: 0.8540\n",
            "Epoch 2/50\n",
            "157/157 [==============================] - 26s 163ms/step - loss: 0.2930 - accuracy: 0.9017 - val_loss: 0.1635 - val_accuracy: 0.9457\n",
            "Epoch 3/50\n",
            "157/157 [==============================] - 26s 163ms/step - loss: 0.1814 - accuracy: 0.9370 - val_loss: 0.1274 - val_accuracy: 0.9570\n",
            "Epoch 4/50\n",
            "157/157 [==============================] - 25s 163ms/step - loss: 0.1622 - accuracy: 0.9476 - val_loss: 0.1526 - val_accuracy: 0.9496\n",
            "Epoch 5/50\n",
            "157/157 [==============================] - 26s 164ms/step - loss: 0.1062 - accuracy: 0.9675 - val_loss: 0.1154 - val_accuracy: 0.9598\n",
            "Epoch 6/50\n",
            "157/157 [==============================] - 25s 162ms/step - loss: 0.0897 - accuracy: 0.9710 - val_loss: 0.0900 - val_accuracy: 0.9700\n",
            "Epoch 7/50\n",
            "157/157 [==============================] - 26s 163ms/step - loss: 0.0820 - accuracy: 0.9720 - val_loss: 0.0974 - val_accuracy: 0.9658\n",
            "Epoch 8/50\n",
            "157/157 [==============================] - 26s 166ms/step - loss: 0.0618 - accuracy: 0.9787 - val_loss: 0.0657 - val_accuracy: 0.9788\n",
            "Epoch 9/50\n",
            "157/157 [==============================] - 26s 166ms/step - loss: 0.0612 - accuracy: 0.9798 - val_loss: 0.0789 - val_accuracy: 0.9774\n",
            "Epoch 10/50\n",
            "157/157 [==============================] - 26s 164ms/step - loss: 0.0581 - accuracy: 0.9813 - val_loss: 0.2111 - val_accuracy: 0.9341\n",
            "Epoch 11/50\n",
            "157/157 [==============================] - 26s 165ms/step - loss: 0.0510 - accuracy: 0.9798 - val_loss: 0.0573 - val_accuracy: 0.9799\n",
            "Epoch 12/50\n",
            "157/157 [==============================] - 25s 162ms/step - loss: 0.0382 - accuracy: 0.9860 - val_loss: 0.0951 - val_accuracy: 0.9700\n",
            "Epoch 13/50\n",
            "157/157 [==============================] - 26s 164ms/step - loss: 0.0506 - accuracy: 0.9834 - val_loss: 0.0586 - val_accuracy: 0.9841\n",
            "Epoch 14/50\n",
            "157/157 [==============================] - 25s 163ms/step - loss: 0.0142 - accuracy: 0.9968 - val_loss: 0.0439 - val_accuracy: 0.9891\n",
            "Epoch 15/50\n",
            "157/157 [==============================] - 26s 163ms/step - loss: 0.0185 - accuracy: 0.9949 - val_loss: 0.0622 - val_accuracy: 0.9831\n",
            "Epoch 16/50\n",
            "157/157 [==============================] - 25s 162ms/step - loss: 0.0094 - accuracy: 0.9983 - val_loss: 0.0507 - val_accuracy: 0.9870\n",
            "Epoch 17/50\n",
            "157/157 [==============================] - 26s 165ms/step - loss: 0.0088 - accuracy: 0.9975 - val_loss: 0.0769 - val_accuracy: 0.9785\n",
            "Epoch 18/50\n",
            "157/157 [==============================] - 26s 163ms/step - loss: 0.0758 - accuracy: 0.9768 - val_loss: 0.0881 - val_accuracy: 0.9704\n",
            "Epoch 19/50\n",
            "157/157 [==============================] - 25s 162ms/step - loss: 0.0119 - accuracy: 0.9976 - val_loss: 0.0575 - val_accuracy: 0.9866\n",
            "Epoch 20/50\n",
            "157/157 [==============================] - 26s 163ms/step - loss: 0.0214 - accuracy: 0.9926 - val_loss: 0.0543 - val_accuracy: 0.9820\n",
            "Epoch 21/50\n",
            "157/157 [==============================] - 26s 164ms/step - loss: 0.0115 - accuracy: 0.9964 - val_loss: 0.1902 - val_accuracy: 0.9401\n",
            "Epoch 22/50\n",
            "157/157 [==============================] - 26s 163ms/step - loss: 0.1018 - accuracy: 0.9688 - val_loss: 0.0635 - val_accuracy: 0.9781\n",
            "Epoch 23/50\n",
            "157/157 [==============================] - 25s 162ms/step - loss: 0.0127 - accuracy: 0.9957 - val_loss: 0.1579 - val_accuracy: 0.9517\n",
            "Epoch 24/50\n",
            "157/157 [==============================] - 25s 163ms/step - loss: 0.0207 - accuracy: 0.9936 - val_loss: 0.0599 - val_accuracy: 0.9831\n",
            "Epoch 25/50\n",
            "157/157 [==============================] - 26s 163ms/step - loss: 0.0192 - accuracy: 0.9931 - val_loss: 0.0543 - val_accuracy: 0.9803\n",
            "Epoch 26/50\n",
            "157/157 [==============================] - 25s 162ms/step - loss: 0.0415 - accuracy: 0.9875 - val_loss: 0.0535 - val_accuracy: 0.9855\n",
            "Epoch 27/50\n",
            "157/157 [==============================] - 25s 162ms/step - loss: 0.0041 - accuracy: 0.9992 - val_loss: 0.0629 - val_accuracy: 0.9852\n",
            "Epoch 28/50\n",
            "157/157 [==============================] - 25s 162ms/step - loss: 0.0013 - accuracy: 0.9999 - val_loss: 0.0546 - val_accuracy: 0.9848\n",
            "Epoch 29/50\n",
            "157/157 [==============================] - 25s 162ms/step - loss: 0.0157 - accuracy: 0.9988 - val_loss: 0.0453 - val_accuracy: 0.9877\n",
            "Epoch 30/50\n",
            "157/157 [==============================] - 26s 163ms/step - loss: 0.0014 - accuracy: 0.9997 - val_loss: 0.1846 - val_accuracy: 0.9591\n",
            "Epoch 31/50\n",
            "157/157 [==============================] - 25s 161ms/step - loss: 0.0100 - accuracy: 0.9976 - val_loss: 0.0591 - val_accuracy: 0.9862\n",
            "Epoch 32/50\n",
            "157/157 [==============================] - 25s 160ms/step - loss: 0.0043 - accuracy: 0.9990 - val_loss: 0.0903 - val_accuracy: 0.9795\n",
            "Epoch 33/50\n",
            "157/157 [==============================] - 26s 163ms/step - loss: 0.0604 - accuracy: 0.9842 - val_loss: 0.0958 - val_accuracy: 0.9760\n",
            "Epoch 34/50\n",
            "157/157 [==============================] - 25s 160ms/step - loss: 0.0126 - accuracy: 0.9955 - val_loss: 0.0923 - val_accuracy: 0.9714\n",
            "Epoch 35/50\n",
            "157/157 [==============================] - 25s 159ms/step - loss: 0.0125 - accuracy: 0.9958 - val_loss: 0.0685 - val_accuracy: 0.9855\n",
            "Epoch 36/50\n",
            "157/157 [==============================] - 25s 159ms/step - loss: 0.0022 - accuracy: 0.9998 - val_loss: 0.0663 - val_accuracy: 0.9862\n",
            "Epoch 37/50\n",
            "157/157 [==============================] - 25s 160ms/step - loss: 0.0017 - accuracy: 0.9996 - val_loss: 0.0860 - val_accuracy: 0.9788\n",
            "Epoch 38/50\n",
            "157/157 [==============================] - 25s 160ms/step - loss: 0.0120 - accuracy: 0.9964 - val_loss: 0.0761 - val_accuracy: 0.9781\n",
            "Epoch 39/50\n",
            "157/157 [==============================] - 25s 161ms/step - loss: 0.0626 - accuracy: 0.9811 - val_loss: 0.0444 - val_accuracy: 0.9877\n",
            "Epoch 40/50\n",
            "157/157 [==============================] - 25s 160ms/step - loss: 0.0036 - accuracy: 0.9992 - val_loss: 0.0425 - val_accuracy: 0.9880\n",
            "Epoch 41/50\n",
            "157/157 [==============================] - 25s 159ms/step - loss: 0.0010 - accuracy: 0.9999 - val_loss: 0.0415 - val_accuracy: 0.9887\n",
            "Epoch 42/50\n",
            "157/157 [==============================] - 25s 162ms/step - loss: 0.0054 - accuracy: 0.9997 - val_loss: 0.0403 - val_accuracy: 0.9887\n",
            "Epoch 43/50\n",
            "157/157 [==============================] - 25s 160ms/step - loss: 0.0054 - accuracy: 0.9992 - val_loss: 0.0445 - val_accuracy: 0.9877\n",
            "Epoch 44/50\n",
            "157/157 [==============================] - 25s 161ms/step - loss: 7.7687e-04 - accuracy: 0.9999 - val_loss: 0.0507 - val_accuracy: 0.9845\n",
            "Epoch 45/50\n",
            "157/157 [==============================] - 25s 161ms/step - loss: 0.0019 - accuracy: 0.9998 - val_loss: 0.0455 - val_accuracy: 0.9877\n",
            "Epoch 46/50\n",
            "157/157 [==============================] - 25s 161ms/step - loss: 0.0043 - accuracy: 0.9990 - val_loss: 0.0488 - val_accuracy: 0.9859\n",
            "Epoch 47/50\n",
            "157/157 [==============================] - 25s 161ms/step - loss: 0.0020 - accuracy: 0.9996 - val_loss: 0.0604 - val_accuracy: 0.9887\n",
            "Epoch 48/50\n",
            "157/157 [==============================] - ETA: 0s - loss: 0.0022 - accuracy: 0.9995"
          ],
          "name": "stdout"
        }
      ]
    }
  ]
}