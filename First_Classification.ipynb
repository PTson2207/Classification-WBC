{
  "nbformat": 4,
  "nbformat_minor": 0,
  "metadata": {
    "colab": {
      "name": "First-Classification.ipynb",
      "provenance": []
    },
    "kernelspec": {
      "name": "python3",
      "display_name": "Python 3"
    }
  },
  "cells": [
    {
      "cell_type": "code",
      "metadata": {
        "id": "8ia2LIw38IIl"
      },
      "source": [
        "import numpy as np\r\n",
        "import csv\r\n",
        "import cv2\r\n",
        "import os\r\n",
        "from keras.layers import Dense, Dropout, Flatten\r\n",
        "from keras.layers import Conv2D, MaxPool2D, Lambda\r\n",
        "from keras.wrappers.scikit_learn import KerasClassifier\r\n",
        "from keras.utils import  np_utils\r\n",
        "from keras.preprocessing.image import  ImageDataGenerator\r\n",
        "from sklearn.model_selection import cross_val_score, KFold, train_test_split\r\n",
        "from sklearn.pipeline import Pipeline\r\n",
        "from sklearn.preprocessing import LabelEncoder\r\n",
        "from sklearn.metrics import roc_curve, auc"
      ],
      "execution_count": 2,
      "outputs": []
    },
    {
      "cell_type": "code",
      "metadata": {
        "id": "vw0on33B-j7H"
      },
      "source": [
        "num_classes = 5\r\n",
        "epochs = 50\r\n",
        "BASE_DIR = '../'\r\n",
        "batch_size = 32"
      ],
      "execution_count": 3,
      "outputs": []
    },
    {
      "cell_type": "code",
      "metadata": {
        "id": "zu4x0I2i-xCW"
      },
      "source": [
        "def get_data(folder):\r\n",
        "    X = []\r\n",
        "    y = []\r\n",
        "    \r\n",
        "    for cyte in os.listdir(folder):\r\n",
        "        if not cyte.startswith('.'):\r\n",
        "            for image_filename in os.listdir(folder + cyte):\r\n",
        "                img_file = cv2.imread(folder + cyte + '/' + image_filename)\r\n",
        "                if img_file is not None:\r\n",
        "                    img_arr = np.asarray(img_file)\r\n",
        "                    X.append(img_arr)\r\n",
        "                    y.append(cyte)\r\n",
        "    \r\n",
        "    X = np.asarray(X)\r\n",
        "    y = np.asarray(y)\r\n",
        "    return X, y"
      ],
      "execution_count": 4,
      "outputs": []
    },
    {
      "cell_type": "code",
      "metadata": {
        "id": "H2Ba_jZQ_5xK"
      },
      "source": [
        "X_train, y_train = get_data(BASE_DIR + \"/content/drive/MyDrive/WBC_classification/Data/TRAIN/\")"
      ],
      "execution_count": null,
      "outputs": []
    }
  ]
}