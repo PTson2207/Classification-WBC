{
  "nbformat": 4,
  "nbformat_minor": 0,
  "metadata": {
    "colab": {
      "name": "First-Classification.ipynb",
      "provenance": [],
      "mount_file_id": "1fg8GLmAqvNbXSG0xwNFS50LwnWnW2AMV",
      "authorship_tag": "ABX9TyPSe5rlUXGtoB6TbvNo0CEq",
      "include_colab_link": true
    },
    "kernelspec": {
      "name": "python3",
      "display_name": "Python 3"
    },
    "accelerator": "GPU"
  },
  "cells": [
    {
      "cell_type": "markdown",
      "metadata": {
        "id": "view-in-github",
        "colab_type": "text"
      },
      "source": [
        "<a href=\"https://colab.research.google.com/github/PTson2207/Classification-WBC/blob/main/First_Classification.ipynb\" target=\"_parent\"><img src=\"https://colab.research.google.com/assets/colab-badge.svg\" alt=\"Open In Colab\"/></a>"
      ]
    },
    {
      "cell_type": "code",
      "metadata": {
        "id": "8ia2LIw38IIl"
      },
      "source": [
        "import numpy as np\r\n",
        "import csv\r\n",
        "import cv2\r\n",
        "import os\r\n",
        "from keras.models import Sequential\r\n",
        "from keras.layers import Dense, Dropout, Flatten, Activation\r\n",
        "from keras.layers import Conv2D, MaxPooling2D, Lambda\r\n",
        "from keras.wrappers.scikit_learn import KerasClassifier\r\n",
        "from tensorflow.keras.optimizers import  Adam\r\n",
        "from keras.utils import  np_utils\r\n",
        "from keras.preprocessing.image import  ImageDataGenerator\r\n",
        "from sklearn.model_selection import cross_val_score, KFold, train_test_split\r\n",
        "from sklearn.pipeline import Pipeline\r\n",
        "from sklearn.preprocessing import LabelEncoder\r\n",
        "from sklearn.metrics import roc_curve, auc\r\n",
        "from sklearn.metrics import accuracy_score, confusion_matrix"
      ],
      "execution_count": 1,
      "outputs": []
    },
    {
      "cell_type": "code",
      "metadata": {
        "id": "vw0on33B-j7H"
      },
      "source": [
        "num_classes = 5\r\n",
        "epochs = 50\r\n",
        "BASE_DIR = '../'\r\n",
        "batch_size = 32"
      ],
      "execution_count": 2,
      "outputs": []
    },
    {
      "cell_type": "code",
      "metadata": {
        "id": "zu4x0I2i-xCW"
      },
      "source": [
        "def get_data(folder):\r\n",
        "    X = []\r\n",
        "    y = []\r\n",
        "\r\n",
        "    for img in os.listdir(folder):\r\n",
        "        if not img.startswith('.'):\r\n",
        "            for image_filename in os.listdir(folder + img):\r\n",
        "                img_file = cv2.imread(folder + img + '/' + image_filename)\r\n",
        "                if img_file is not None:\r\n",
        "                    img_file = cv2.resize(img_file, (160,120))\r\n",
        "                    img_arr = np.asarray(img_file)\r\n",
        "                    X.append(img_arr)\r\n",
        "                    y.append(img)\r\n",
        "    X = np.asarray(X)\r\n",
        "    y = np.asarray(y)\r\n",
        "    return X,y"
      ],
      "execution_count": 3,
      "outputs": []
    },
    {
      "cell_type": "code",
      "metadata": {
        "id": "H2Ba_jZQ_5xK"
      },
      "source": [
        "X_train, y_train = get_data(BASE_DIR + \"/content/drive/MyDrive/WBC_classification/Data/TRAIN/\")"
      ],
      "execution_count": 4,
      "outputs": []
    },
    {
      "cell_type": "code",
      "metadata": {
        "colab": {
          "base_uri": "https://localhost:8080/"
        },
        "id": "ggyCT46Z7ZYT",
        "outputId": "f4a026bc-76ae-4807-8d5f-4bb6d663a0e4"
      },
      "source": [
        "print(\"X_train shape:\",X_train.shape)\r\n",
        "print(\"y_train shape:\", y_train.shape)"
      ],
      "execution_count": 5,
      "outputs": [
        {
          "output_type": "stream",
          "text": [
            "X_train shape: (5000, 120, 160, 3)\n",
            "y_train shape: (5000,)\n"
          ],
          "name": "stdout"
        }
      ]
    },
    {
      "cell_type": "code",
      "metadata": {
        "id": "BTiAvfN8EXMF"
      },
      "source": [
        "X_test, y_test = get_data(BASE_DIR + \"/content/drive/MyDrive/WBC_classification/Data/TEST/\")"
      ],
      "execution_count": 6,
      "outputs": []
    },
    {
      "cell_type": "code",
      "metadata": {
        "colab": {
          "base_uri": "https://localhost:8080/"
        },
        "id": "-xVy5XBs7zm-",
        "outputId": "a3c767e3-c053-4d37-bf34-e662b04bd8cb"
      },
      "source": [
        "print(\"X_test shape:\",X_test.shape)\r\n",
        "print(\"y_test shape:\",y_test.shape)"
      ],
      "execution_count": 7,
      "outputs": [
        {
          "output_type": "stream",
          "text": [
            "X_test shape: (1733, 120, 160, 3)\n",
            "y_test shape: (1733,)\n"
          ],
          "name": "stdout"
        }
      ]
    },
    {
      "cell_type": "code",
      "metadata": {
        "id": "sPPLwBa-MXoH"
      },
      "source": [
        "X_val, y_val = get_data(BASE_DIR + \"/content/drive/MyDrive/WBC_classification/Data/VALID/\")"
      ],
      "execution_count": null,
      "outputs": []
    },
    {
      "cell_type": "code",
      "metadata": {
        "id": "tPvPbzqhMjSX"
      },
      "source": [
        "print(\"X_val shape:\", X_val.shape)\r\n",
        "print('y_val shape:', y_val.shape)"
      ],
      "execution_count": null,
      "outputs": []
    },
    {
      "cell_type": "code",
      "metadata": {
        "id": "Xd6IYqGhf7R0"
      },
      "source": [
        "import matplotlib.pyplot as plt\r\n",
        "\r\n",
        "# Plot 9 images\r\n",
        "for i, image in enumerate(X_train[:9]):\r\n",
        "    # define subplot\r\n",
        "    plt.subplot(330 + 1 + i)\r\n",
        "    plt.imshow(image)\r\n",
        "    print('image:', image.shape, 'label:', y_train[i])\r\n",
        "# show the figure\r\n",
        "plt.show()"
      ],
      "execution_count": null,
      "outputs": []
    },
    {
      "cell_type": "code",
      "metadata": {
        "id": "rhX50gjJLPAq"
      },
      "source": [
        "def get_model():\r\n",
        "    model = Sequential()\r\n",
        "    model.add(Lambda(lambda x: x/127.5 - 1., input_shape=(120, 160, 3), output_shape=(120, 160, 3)))\r\n",
        "    model.add(Conv2D(32, (3, 3), input_shape=(120, 160, 3)))\r\n",
        "    model.add(Activation('relu'))\r\n",
        "    model.add(MaxPooling2D(pool_size=(2, 2)))\r\n",
        "\r\n",
        "    model.add(Conv2D(32, (3, 3)))\r\n",
        "    model.add(Activation('relu'))\r\n",
        "    model.add(MaxPooling2D(pool_size=(2, 2)))\r\n",
        "\r\n",
        "    model.add(Conv2D(64, (3, 3)))\r\n",
        "    model.add(Activation('relu'))\r\n",
        "    model.add(MaxPooling2D(pool_size=(2, 2)))\r\n",
        "    \r\n",
        "    model.add(Conv2D(128, (3, 3)))\r\n",
        "    model.add(Activation('relu'))\r\n",
        "    model.add(MaxPooling2D(pool_size=(2, 2)))\r\n",
        "\r\n",
        "    model.add(Flatten())\r\n",
        "    model.add(Dense(64))\r\n",
        "    model.add(Activation('relu'))\r\n",
        "    model.add(Dropout(0.5))\r\n",
        "    model.add(Dense(num_classes))\r\n",
        "    model.add(Activation('softmax'))\r\n",
        "\r\n",
        "    model.compile(loss='categorical_crossentropy',\r\n",
        "                optimizer=Adam(learning_rate=0.0001),\r\n",
        "                metrics=['accuracy'])\r\n",
        "\r\n",
        "    return model\r\n"
      ],
      "execution_count": null,
      "outputs": []
    },
    {
      "cell_type": "code",
      "metadata": {
        "id": "Q3VtzDcOLV6U"
      },
      "source": [
        "encoder = LabelEncoder()\r\n",
        "encoder.fit(y_train)\r\n",
        "encoded_y_train = encoder.transform(y_train)\r\n",
        "encoded_y_test = encoder.transform(y_test)\r\n",
        "encoded_y_val = encoder.transform(y_val)\r\n",
        "\r\n",
        "y_train = np_utils.to_categorical(encoded_y_train)\r\n",
        "y_test = np_utils.to_categorical(encoded_y_test)\r\n",
        "y_val = np_utils.to_categorical(encoded_y_val)"
      ],
      "execution_count": null,
      "outputs": []
    },
    {
      "cell_type": "code",
      "metadata": {
        "id": "gI7nqqsFLXNW"
      },
      "source": [
        "print(y_train)"
      ],
      "execution_count": null,
      "outputs": []
    },
    {
      "cell_type": "code",
      "metadata": {
        "id": "BM7AePbNQf0W"
      },
      "source": [
        "print(y_train.shape)"
      ],
      "execution_count": null,
      "outputs": []
    },
    {
      "cell_type": "code",
      "metadata": {
        "id": "8iho3PDxLduD"
      },
      "source": [
        "model = get_model()\r\n",
        "\r\n",
        "# fits the model on batches\r\n",
        "model.fit(\r\n",
        "    X_train,\r\n",
        "    y_train,\r\n",
        "    validation_split=0.2,\r\n",
        "    epochs=50,\r\n",
        "    shuffle=True,\r\n",
        "    batch_size=32,\r\n",
        "    callbacks=[remote, early_stopping],\r\n",
        "    validation_data=(X_val, y_val))"
      ],
      "execution_count": null,
      "outputs": []
    },
    {
      "cell_type": "code",
      "metadata": {
        "id": "NNtifns3uFoQ"
      },
      "source": [
        "y_pred = np.rint(model.predict(X_test))"
      ],
      "execution_count": null,
      "outputs": []
    },
    {
      "cell_type": "code",
      "metadata": {
        "id": "6qe2YDBLuOkM"
      },
      "source": [
        "print(\"Test Acc score:\", accuracy_score(y_test, y_pred))"
      ],
      "execution_count": null,
      "outputs": []
    },
    {
      "cell_type": "code",
      "metadata": {
        "id": "duJV0u0tvYqk"
      },
      "source": [
        "#y_test = np.argmax(y_test, axis=1)\r\n",
        "#y_pred = np.argmax(y_pred, axis=1)\r\n",
        "#print(confusion_matrix(y_test, y_pred))"
      ],
      "execution_count": null,
      "outputs": []
    }
  ]
}